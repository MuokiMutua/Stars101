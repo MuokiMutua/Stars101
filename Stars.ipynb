{
  "nbformat": 4,
  "nbformat_minor": 0,
  "metadata": {
    "colab": {
      "provenance": []
    },
    "kernelspec": {
      "name": "python3",
      "display_name": "Python 3"
    },
    "language_info": {
      "name": "python"
    }
  },
  "cells": [
    {
      "cell_type": "markdown",
      "source": [
        "## Group Members\n",
        "* 150874 Ivy Orimba\n",
        "* 152244 Margret Kyalo\n",
        "* 150876 Abigael Kinya\n",
        "* 151373 Mutua Ryan\n",
        "* 150500 Elvis Muchiri\n",
        "* 150145 Scott Amisi\n"
      ],
      "metadata": {
        "id": "kak0D17U_nrb"
      }
    },
    {
      "cell_type": "markdown",
      "source": [
        "## Import libraries"
      ],
      "metadata": {
        "id": "Z1itIFr1G-jC"
      }
    },
    {
      "cell_type": "code",
      "source": [
        "from sklearn.metrics import confusion_matrix, classification_report\n",
        "from sklearn.model_selection import train_test_split\n",
        "from sklearn.neighbors import KNeighborsClassifier\n",
        "from sklearn.model_selection import GridSearchCV\n",
        "from sklearn.tree import DecisionTreeClassifier\n",
        "from sklearn.preprocessing import MinMaxScaler\n",
        "from sklearn.metrics import accuracy_score\n",
        "\n",
        "import matplotlib.pyplot as plt\n",
        "from sklearn.svm import SVC\n",
        "import seaborn as sns\n",
        "import pandas as pd\n",
        "import numpy as np"
      ],
      "metadata": {
        "id": "bY2LHeQYGhJW"
      },
      "execution_count": 1,
      "outputs": []
    },
    {
      "cell_type": "markdown",
      "source": [
        "## Reading the dataset (Stars.csv)"
      ],
      "metadata": {
        "id": "GFjPsOHpO5T6"
      }
    },
    {
      "cell_type": "code",
      "source": [
        "from google.colab import files\n",
        "uploaded = files.upload()"
      ],
      "metadata": {
        "colab": {
          "base_uri": "https://localhost:8080/",
          "height": 73
        },
        "id": "jZgJcxT3AENo",
        "outputId": "d191d45c-b854-4956-f869-664f7cb960d4"
      },
      "execution_count": 2,
      "outputs": [
        {
          "output_type": "display_data",
          "data": {
            "text/plain": [
              "<IPython.core.display.HTML object>"
            ],
            "text/html": [
              "\n",
              "     <input type=\"file\" id=\"files-cede087a-f03d-46c4-96e3-c90a4e5345a7\" name=\"files[]\" multiple disabled\n",
              "        style=\"border:none\" />\n",
              "     <output id=\"result-cede087a-f03d-46c4-96e3-c90a4e5345a7\">\n",
              "      Upload widget is only available when the cell has been executed in the\n",
              "      current browser session. Please rerun this cell to enable.\n",
              "      </output>\n",
              "      <script>// Copyright 2017 Google LLC\n",
              "//\n",
              "// Licensed under the Apache License, Version 2.0 (the \"License\");\n",
              "// you may not use this file except in compliance with the License.\n",
              "// You may obtain a copy of the License at\n",
              "//\n",
              "//      http://www.apache.org/licenses/LICENSE-2.0\n",
              "//\n",
              "// Unless required by applicable law or agreed to in writing, software\n",
              "// distributed under the License is distributed on an \"AS IS\" BASIS,\n",
              "// WITHOUT WARRANTIES OR CONDITIONS OF ANY KIND, either express or implied.\n",
              "// See the License for the specific language governing permissions and\n",
              "// limitations under the License.\n",
              "\n",
              "/**\n",
              " * @fileoverview Helpers for google.colab Python module.\n",
              " */\n",
              "(function(scope) {\n",
              "function span(text, styleAttributes = {}) {\n",
              "  const element = document.createElement('span');\n",
              "  element.textContent = text;\n",
              "  for (const key of Object.keys(styleAttributes)) {\n",
              "    element.style[key] = styleAttributes[key];\n",
              "  }\n",
              "  return element;\n",
              "}\n",
              "\n",
              "// Max number of bytes which will be uploaded at a time.\n",
              "const MAX_PAYLOAD_SIZE = 100 * 1024;\n",
              "\n",
              "function _uploadFiles(inputId, outputId) {\n",
              "  const steps = uploadFilesStep(inputId, outputId);\n",
              "  const outputElement = document.getElementById(outputId);\n",
              "  // Cache steps on the outputElement to make it available for the next call\n",
              "  // to uploadFilesContinue from Python.\n",
              "  outputElement.steps = steps;\n",
              "\n",
              "  return _uploadFilesContinue(outputId);\n",
              "}\n",
              "\n",
              "// This is roughly an async generator (not supported in the browser yet),\n",
              "// where there are multiple asynchronous steps and the Python side is going\n",
              "// to poll for completion of each step.\n",
              "// This uses a Promise to block the python side on completion of each step,\n",
              "// then passes the result of the previous step as the input to the next step.\n",
              "function _uploadFilesContinue(outputId) {\n",
              "  const outputElement = document.getElementById(outputId);\n",
              "  const steps = outputElement.steps;\n",
              "\n",
              "  const next = steps.next(outputElement.lastPromiseValue);\n",
              "  return Promise.resolve(next.value.promise).then((value) => {\n",
              "    // Cache the last promise value to make it available to the next\n",
              "    // step of the generator.\n",
              "    outputElement.lastPromiseValue = value;\n",
              "    return next.value.response;\n",
              "  });\n",
              "}\n",
              "\n",
              "/**\n",
              " * Generator function which is called between each async step of the upload\n",
              " * process.\n",
              " * @param {string} inputId Element ID of the input file picker element.\n",
              " * @param {string} outputId Element ID of the output display.\n",
              " * @return {!Iterable<!Object>} Iterable of next steps.\n",
              " */\n",
              "function* uploadFilesStep(inputId, outputId) {\n",
              "  const inputElement = document.getElementById(inputId);\n",
              "  inputElement.disabled = false;\n",
              "\n",
              "  const outputElement = document.getElementById(outputId);\n",
              "  outputElement.innerHTML = '';\n",
              "\n",
              "  const pickedPromise = new Promise((resolve) => {\n",
              "    inputElement.addEventListener('change', (e) => {\n",
              "      resolve(e.target.files);\n",
              "    });\n",
              "  });\n",
              "\n",
              "  const cancel = document.createElement('button');\n",
              "  inputElement.parentElement.appendChild(cancel);\n",
              "  cancel.textContent = 'Cancel upload';\n",
              "  const cancelPromise = new Promise((resolve) => {\n",
              "    cancel.onclick = () => {\n",
              "      resolve(null);\n",
              "    };\n",
              "  });\n",
              "\n",
              "  // Wait for the user to pick the files.\n",
              "  const files = yield {\n",
              "    promise: Promise.race([pickedPromise, cancelPromise]),\n",
              "    response: {\n",
              "      action: 'starting',\n",
              "    }\n",
              "  };\n",
              "\n",
              "  cancel.remove();\n",
              "\n",
              "  // Disable the input element since further picks are not allowed.\n",
              "  inputElement.disabled = true;\n",
              "\n",
              "  if (!files) {\n",
              "    return {\n",
              "      response: {\n",
              "        action: 'complete',\n",
              "      }\n",
              "    };\n",
              "  }\n",
              "\n",
              "  for (const file of files) {\n",
              "    const li = document.createElement('li');\n",
              "    li.append(span(file.name, {fontWeight: 'bold'}));\n",
              "    li.append(span(\n",
              "        `(${file.type || 'n/a'}) - ${file.size} bytes, ` +\n",
              "        `last modified: ${\n",
              "            file.lastModifiedDate ? file.lastModifiedDate.toLocaleDateString() :\n",
              "                                    'n/a'} - `));\n",
              "    const percent = span('0% done');\n",
              "    li.appendChild(percent);\n",
              "\n",
              "    outputElement.appendChild(li);\n",
              "\n",
              "    const fileDataPromise = new Promise((resolve) => {\n",
              "      const reader = new FileReader();\n",
              "      reader.onload = (e) => {\n",
              "        resolve(e.target.result);\n",
              "      };\n",
              "      reader.readAsArrayBuffer(file);\n",
              "    });\n",
              "    // Wait for the data to be ready.\n",
              "    let fileData = yield {\n",
              "      promise: fileDataPromise,\n",
              "      response: {\n",
              "        action: 'continue',\n",
              "      }\n",
              "    };\n",
              "\n",
              "    // Use a chunked sending to avoid message size limits. See b/62115660.\n",
              "    let position = 0;\n",
              "    do {\n",
              "      const length = Math.min(fileData.byteLength - position, MAX_PAYLOAD_SIZE);\n",
              "      const chunk = new Uint8Array(fileData, position, length);\n",
              "      position += length;\n",
              "\n",
              "      const base64 = btoa(String.fromCharCode.apply(null, chunk));\n",
              "      yield {\n",
              "        response: {\n",
              "          action: 'append',\n",
              "          file: file.name,\n",
              "          data: base64,\n",
              "        },\n",
              "      };\n",
              "\n",
              "      let percentDone = fileData.byteLength === 0 ?\n",
              "          100 :\n",
              "          Math.round((position / fileData.byteLength) * 100);\n",
              "      percent.textContent = `${percentDone}% done`;\n",
              "\n",
              "    } while (position < fileData.byteLength);\n",
              "  }\n",
              "\n",
              "  // All done.\n",
              "  yield {\n",
              "    response: {\n",
              "      action: 'complete',\n",
              "    }\n",
              "  };\n",
              "}\n",
              "\n",
              "scope.google = scope.google || {};\n",
              "scope.google.colab = scope.google.colab || {};\n",
              "scope.google.colab._files = {\n",
              "  _uploadFiles,\n",
              "  _uploadFilesContinue,\n",
              "};\n",
              "})(self);\n",
              "</script> "
            ]
          },
          "metadata": {}
        },
        {
          "output_type": "stream",
          "name": "stdout",
          "text": [
            "Saving Stars.csv to Stars.csv\n"
          ]
        }
      ]
    },
    {
      "cell_type": "code",
      "source": [
        "df = pd.read_csv('Stars.csv')"
      ],
      "metadata": {
        "id": "72UskwsRHORq"
      },
      "execution_count": 3,
      "outputs": []
    },
    {
      "cell_type": "markdown",
      "source": [
        "## Understanding the Dataset"
      ],
      "metadata": {
        "id": "Is6mJMKpPWCZ"
      }
    },
    {
      "cell_type": "code",
      "source": [
        "df.head() # display first 5 rows"
      ],
      "metadata": {
        "colab": {
          "base_uri": "https://localhost:8080/",
          "height": 206
        },
        "id": "AEKo-2TJHlJw",
        "outputId": "31b13477-1def-4861-9805-69031650c439"
      },
      "execution_count": null,
      "outputs": [
        {
          "output_type": "execute_result",
          "data": {
            "text/plain": [
              "   Temperature (K)  Luminosity (L/Lo)  Radius (R/Ro)  Absolute magnitude (Mv)  \\\n",
              "0             3068           0.002400         0.1700                    16.12   \n",
              "1             3042           0.000500         0.1542                    16.60   \n",
              "2             2600           0.000300         0.1020                    18.70   \n",
              "3             2800           0.000200         0.1600                    16.65   \n",
              "4             1939           0.000138         0.1030                    20.06   \n",
              "\n",
              "   Star type Star category Star color Spectral Class  \n",
              "0          0   Brown Dwarf        Red              M  \n",
              "1          0   Brown Dwarf        Red              M  \n",
              "2          0   Brown Dwarf        Red              M  \n",
              "3          0   Brown Dwarf        Red              M  \n",
              "4          0   Brown Dwarf        Red              M  "
            ],
            "text/html": [
              "\n",
              "  <div id=\"df-ddc2232d-93c6-48ae-a31d-fc7681027edf\" class=\"colab-df-container\">\n",
              "    <div>\n",
              "<style scoped>\n",
              "    .dataframe tbody tr th:only-of-type {\n",
              "        vertical-align: middle;\n",
              "    }\n",
              "\n",
              "    .dataframe tbody tr th {\n",
              "        vertical-align: top;\n",
              "    }\n",
              "\n",
              "    .dataframe thead th {\n",
              "        text-align: right;\n",
              "    }\n",
              "</style>\n",
              "<table border=\"1\" class=\"dataframe\">\n",
              "  <thead>\n",
              "    <tr style=\"text-align: right;\">\n",
              "      <th></th>\n",
              "      <th>Temperature (K)</th>\n",
              "      <th>Luminosity (L/Lo)</th>\n",
              "      <th>Radius (R/Ro)</th>\n",
              "      <th>Absolute magnitude (Mv)</th>\n",
              "      <th>Star type</th>\n",
              "      <th>Star category</th>\n",
              "      <th>Star color</th>\n",
              "      <th>Spectral Class</th>\n",
              "    </tr>\n",
              "  </thead>\n",
              "  <tbody>\n",
              "    <tr>\n",
              "      <th>0</th>\n",
              "      <td>3068</td>\n",
              "      <td>0.002400</td>\n",
              "      <td>0.1700</td>\n",
              "      <td>16.12</td>\n",
              "      <td>0</td>\n",
              "      <td>Brown Dwarf</td>\n",
              "      <td>Red</td>\n",
              "      <td>M</td>\n",
              "    </tr>\n",
              "    <tr>\n",
              "      <th>1</th>\n",
              "      <td>3042</td>\n",
              "      <td>0.000500</td>\n",
              "      <td>0.1542</td>\n",
              "      <td>16.60</td>\n",
              "      <td>0</td>\n",
              "      <td>Brown Dwarf</td>\n",
              "      <td>Red</td>\n",
              "      <td>M</td>\n",
              "    </tr>\n",
              "    <tr>\n",
              "      <th>2</th>\n",
              "      <td>2600</td>\n",
              "      <td>0.000300</td>\n",
              "      <td>0.1020</td>\n",
              "      <td>18.70</td>\n",
              "      <td>0</td>\n",
              "      <td>Brown Dwarf</td>\n",
              "      <td>Red</td>\n",
              "      <td>M</td>\n",
              "    </tr>\n",
              "    <tr>\n",
              "      <th>3</th>\n",
              "      <td>2800</td>\n",
              "      <td>0.000200</td>\n",
              "      <td>0.1600</td>\n",
              "      <td>16.65</td>\n",
              "      <td>0</td>\n",
              "      <td>Brown Dwarf</td>\n",
              "      <td>Red</td>\n",
              "      <td>M</td>\n",
              "    </tr>\n",
              "    <tr>\n",
              "      <th>4</th>\n",
              "      <td>1939</td>\n",
              "      <td>0.000138</td>\n",
              "      <td>0.1030</td>\n",
              "      <td>20.06</td>\n",
              "      <td>0</td>\n",
              "      <td>Brown Dwarf</td>\n",
              "      <td>Red</td>\n",
              "      <td>M</td>\n",
              "    </tr>\n",
              "  </tbody>\n",
              "</table>\n",
              "</div>\n",
              "    <div class=\"colab-df-buttons\">\n",
              "\n",
              "  <div class=\"colab-df-container\">\n",
              "    <button class=\"colab-df-convert\" onclick=\"convertToInteractive('df-ddc2232d-93c6-48ae-a31d-fc7681027edf')\"\n",
              "            title=\"Convert this dataframe to an interactive table.\"\n",
              "            style=\"display:none;\">\n",
              "\n",
              "  <svg xmlns=\"http://www.w3.org/2000/svg\" height=\"24px\" viewBox=\"0 -960 960 960\">\n",
              "    <path d=\"M120-120v-720h720v720H120Zm60-500h600v-160H180v160Zm220 220h160v-160H400v160Zm0 220h160v-160H400v160ZM180-400h160v-160H180v160Zm440 0h160v-160H620v160ZM180-180h160v-160H180v160Zm440 0h160v-160H620v160Z\"/>\n",
              "  </svg>\n",
              "    </button>\n",
              "\n",
              "  <style>\n",
              "    .colab-df-container {\n",
              "      display:flex;\n",
              "      gap: 12px;\n",
              "    }\n",
              "\n",
              "    .colab-df-convert {\n",
              "      background-color: #E8F0FE;\n",
              "      border: none;\n",
              "      border-radius: 50%;\n",
              "      cursor: pointer;\n",
              "      display: none;\n",
              "      fill: #1967D2;\n",
              "      height: 32px;\n",
              "      padding: 0 0 0 0;\n",
              "      width: 32px;\n",
              "    }\n",
              "\n",
              "    .colab-df-convert:hover {\n",
              "      background-color: #E2EBFA;\n",
              "      box-shadow: 0px 1px 2px rgba(60, 64, 67, 0.3), 0px 1px 3px 1px rgba(60, 64, 67, 0.15);\n",
              "      fill: #174EA6;\n",
              "    }\n",
              "\n",
              "    .colab-df-buttons div {\n",
              "      margin-bottom: 4px;\n",
              "    }\n",
              "\n",
              "    [theme=dark] .colab-df-convert {\n",
              "      background-color: #3B4455;\n",
              "      fill: #D2E3FC;\n",
              "    }\n",
              "\n",
              "    [theme=dark] .colab-df-convert:hover {\n",
              "      background-color: #434B5C;\n",
              "      box-shadow: 0px 1px 3px 1px rgba(0, 0, 0, 0.15);\n",
              "      filter: drop-shadow(0px 1px 2px rgba(0, 0, 0, 0.3));\n",
              "      fill: #FFFFFF;\n",
              "    }\n",
              "  </style>\n",
              "\n",
              "    <script>\n",
              "      const buttonEl =\n",
              "        document.querySelector('#df-ddc2232d-93c6-48ae-a31d-fc7681027edf button.colab-df-convert');\n",
              "      buttonEl.style.display =\n",
              "        google.colab.kernel.accessAllowed ? 'block' : 'none';\n",
              "\n",
              "      async function convertToInteractive(key) {\n",
              "        const element = document.querySelector('#df-ddc2232d-93c6-48ae-a31d-fc7681027edf');\n",
              "        const dataTable =\n",
              "          await google.colab.kernel.invokeFunction('convertToInteractive',\n",
              "                                                    [key], {});\n",
              "        if (!dataTable) return;\n",
              "\n",
              "        const docLinkHtml = 'Like what you see? Visit the ' +\n",
              "          '<a target=\"_blank\" href=https://colab.research.google.com/notebooks/data_table.ipynb>data table notebook</a>'\n",
              "          + ' to learn more about interactive tables.';\n",
              "        element.innerHTML = '';\n",
              "        dataTable['output_type'] = 'display_data';\n",
              "        await google.colab.output.renderOutput(dataTable, element);\n",
              "        const docLink = document.createElement('div');\n",
              "        docLink.innerHTML = docLinkHtml;\n",
              "        element.appendChild(docLink);\n",
              "      }\n",
              "    </script>\n",
              "  </div>\n",
              "\n",
              "\n",
              "<div id=\"df-b1614efe-44f3-49c0-8c39-c7ae65625df3\">\n",
              "  <button class=\"colab-df-quickchart\" onclick=\"quickchart('df-b1614efe-44f3-49c0-8c39-c7ae65625df3')\"\n",
              "            title=\"Suggest charts\"\n",
              "            style=\"display:none;\">\n",
              "\n",
              "<svg xmlns=\"http://www.w3.org/2000/svg\" height=\"24px\"viewBox=\"0 0 24 24\"\n",
              "     width=\"24px\">\n",
              "    <g>\n",
              "        <path d=\"M19 3H5c-1.1 0-2 .9-2 2v14c0 1.1.9 2 2 2h14c1.1 0 2-.9 2-2V5c0-1.1-.9-2-2-2zM9 17H7v-7h2v7zm4 0h-2V7h2v10zm4 0h-2v-4h2v4z\"/>\n",
              "    </g>\n",
              "</svg>\n",
              "  </button>\n",
              "\n",
              "<style>\n",
              "  .colab-df-quickchart {\n",
              "      --bg-color: #E8F0FE;\n",
              "      --fill-color: #1967D2;\n",
              "      --hover-bg-color: #E2EBFA;\n",
              "      --hover-fill-color: #174EA6;\n",
              "      --disabled-fill-color: #AAA;\n",
              "      --disabled-bg-color: #DDD;\n",
              "  }\n",
              "\n",
              "  [theme=dark] .colab-df-quickchart {\n",
              "      --bg-color: #3B4455;\n",
              "      --fill-color: #D2E3FC;\n",
              "      --hover-bg-color: #434B5C;\n",
              "      --hover-fill-color: #FFFFFF;\n",
              "      --disabled-bg-color: #3B4455;\n",
              "      --disabled-fill-color: #666;\n",
              "  }\n",
              "\n",
              "  .colab-df-quickchart {\n",
              "    background-color: var(--bg-color);\n",
              "    border: none;\n",
              "    border-radius: 50%;\n",
              "    cursor: pointer;\n",
              "    display: none;\n",
              "    fill: var(--fill-color);\n",
              "    height: 32px;\n",
              "    padding: 0;\n",
              "    width: 32px;\n",
              "  }\n",
              "\n",
              "  .colab-df-quickchart:hover {\n",
              "    background-color: var(--hover-bg-color);\n",
              "    box-shadow: 0 1px 2px rgba(60, 64, 67, 0.3), 0 1px 3px 1px rgba(60, 64, 67, 0.15);\n",
              "    fill: var(--button-hover-fill-color);\n",
              "  }\n",
              "\n",
              "  .colab-df-quickchart-complete:disabled,\n",
              "  .colab-df-quickchart-complete:disabled:hover {\n",
              "    background-color: var(--disabled-bg-color);\n",
              "    fill: var(--disabled-fill-color);\n",
              "    box-shadow: none;\n",
              "  }\n",
              "\n",
              "  .colab-df-spinner {\n",
              "    border: 2px solid var(--fill-color);\n",
              "    border-color: transparent;\n",
              "    border-bottom-color: var(--fill-color);\n",
              "    animation:\n",
              "      spin 1s steps(1) infinite;\n",
              "  }\n",
              "\n",
              "  @keyframes spin {\n",
              "    0% {\n",
              "      border-color: transparent;\n",
              "      border-bottom-color: var(--fill-color);\n",
              "      border-left-color: var(--fill-color);\n",
              "    }\n",
              "    20% {\n",
              "      border-color: transparent;\n",
              "      border-left-color: var(--fill-color);\n",
              "      border-top-color: var(--fill-color);\n",
              "    }\n",
              "    30% {\n",
              "      border-color: transparent;\n",
              "      border-left-color: var(--fill-color);\n",
              "      border-top-color: var(--fill-color);\n",
              "      border-right-color: var(--fill-color);\n",
              "    }\n",
              "    40% {\n",
              "      border-color: transparent;\n",
              "      border-right-color: var(--fill-color);\n",
              "      border-top-color: var(--fill-color);\n",
              "    }\n",
              "    60% {\n",
              "      border-color: transparent;\n",
              "      border-right-color: var(--fill-color);\n",
              "    }\n",
              "    80% {\n",
              "      border-color: transparent;\n",
              "      border-right-color: var(--fill-color);\n",
              "      border-bottom-color: var(--fill-color);\n",
              "    }\n",
              "    90% {\n",
              "      border-color: transparent;\n",
              "      border-bottom-color: var(--fill-color);\n",
              "    }\n",
              "  }\n",
              "</style>\n",
              "\n",
              "  <script>\n",
              "    async function quickchart(key) {\n",
              "      const quickchartButtonEl =\n",
              "        document.querySelector('#' + key + ' button');\n",
              "      quickchartButtonEl.disabled = true;  // To prevent multiple clicks.\n",
              "      quickchartButtonEl.classList.add('colab-df-spinner');\n",
              "      try {\n",
              "        const charts = await google.colab.kernel.invokeFunction(\n",
              "            'suggestCharts', [key], {});\n",
              "      } catch (error) {\n",
              "        console.error('Error during call to suggestCharts:', error);\n",
              "      }\n",
              "      quickchartButtonEl.classList.remove('colab-df-spinner');\n",
              "      quickchartButtonEl.classList.add('colab-df-quickchart-complete');\n",
              "    }\n",
              "    (() => {\n",
              "      let quickchartButtonEl =\n",
              "        document.querySelector('#df-b1614efe-44f3-49c0-8c39-c7ae65625df3 button');\n",
              "      quickchartButtonEl.style.display =\n",
              "        google.colab.kernel.accessAllowed ? 'block' : 'none';\n",
              "    })();\n",
              "  </script>\n",
              "</div>\n",
              "\n",
              "    </div>\n",
              "  </div>\n"
            ],
            "application/vnd.google.colaboratory.intrinsic+json": {
              "type": "dataframe",
              "variable_name": "df",
              "summary": "{\n  \"name\": \"df\",\n  \"rows\": 240,\n  \"fields\": [\n    {\n      \"column\": \"Temperature (K)\",\n      \"properties\": {\n        \"dtype\": \"number\",\n        \"std\": 9552,\n        \"min\": 1939,\n        \"max\": 40000,\n        \"num_unique_values\": 228,\n        \"samples\": [\n          10930,\n          3345,\n          3600\n        ],\n        \"semantic_type\": \"\",\n        \"description\": \"\"\n      }\n    },\n    {\n      \"column\": \"Luminosity (L/Lo)\",\n      \"properties\": {\n        \"dtype\": \"number\",\n        \"std\": 179432.2449402145,\n        \"min\": 8e-05,\n        \"max\": 849420.0,\n        \"num_unique_values\": 208,\n        \"samples\": [\n          0.000957,\n          0.0018,\n          0.00135\n        ],\n        \"semantic_type\": \"\",\n        \"description\": \"\"\n      }\n    },\n    {\n      \"column\": \"Radius (R/Ro)\",\n      \"properties\": {\n        \"dtype\": \"number\",\n        \"std\": 517.1557634028478,\n        \"min\": 0.0084,\n        \"max\": 1948.5,\n        \"num_unique_values\": 216,\n        \"samples\": [\n          81.0,\n          1423.0,\n          5.92\n        ],\n        \"semantic_type\": \"\",\n        \"description\": \"\"\n      }\n    },\n    {\n      \"column\": \"Absolute magnitude (Mv)\",\n      \"properties\": {\n        \"dtype\": \"number\",\n        \"std\": 10.53251235061617,\n        \"min\": -11.92,\n        \"max\": 20.06,\n        \"num_unique_values\": 228,\n        \"samples\": [\n          -6.224,\n          18.34,\n          16.05\n        ],\n        \"semantic_type\": \"\",\n        \"description\": \"\"\n      }\n    },\n    {\n      \"column\": \"Star type\",\n      \"properties\": {\n        \"dtype\": \"number\",\n        \"std\": 1,\n        \"min\": 0,\n        \"max\": 5,\n        \"num_unique_values\": 6,\n        \"samples\": [\n          0,\n          1,\n          5\n        ],\n        \"semantic_type\": \"\",\n        \"description\": \"\"\n      }\n    },\n    {\n      \"column\": \"Star category\",\n      \"properties\": {\n        \"dtype\": \"category\",\n        \"num_unique_values\": 6,\n        \"samples\": [\n          \"Brown Dwarf\",\n          \"Red Dwarf\",\n          \"Hypergiant\"\n        ],\n        \"semantic_type\": \"\",\n        \"description\": \"\"\n      }\n    },\n    {\n      \"column\": \"Star color\",\n      \"properties\": {\n        \"dtype\": \"category\",\n        \"num_unique_values\": 19,\n        \"samples\": [\n          \"Red\",\n          \"Pale yellow orange\",\n          \"White-Yellow\"\n        ],\n        \"semantic_type\": \"\",\n        \"description\": \"\"\n      }\n    },\n    {\n      \"column\": \"Spectral Class\",\n      \"properties\": {\n        \"dtype\": \"category\",\n        \"num_unique_values\": 7,\n        \"samples\": [\n          \"M\",\n          \"B\",\n          \"K\"\n        ],\n        \"semantic_type\": \"\",\n        \"description\": \"\"\n      }\n    }\n  ]\n}"
            }
          },
          "metadata": {},
          "execution_count": 4
        }
      ]
    },
    {
      "cell_type": "code",
      "source": [
        "df.tail() # display last 5 rows"
      ],
      "metadata": {
        "colab": {
          "base_uri": "https://localhost:8080/",
          "height": 206
        },
        "id": "s96Mu5aMHmug",
        "outputId": "5e2016c5-7eaf-4396-c999-ab25f9e45039"
      },
      "execution_count": null,
      "outputs": [
        {
          "output_type": "execute_result",
          "data": {
            "text/plain": [
              "     Temperature (K)  Luminosity (L/Lo)  Radius (R/Ro)  \\\n",
              "235            38940           374830.0         1356.0   \n",
              "236            30839           834042.0         1194.0   \n",
              "237             8829           537493.0         1423.0   \n",
              "238             9235           404940.0         1112.0   \n",
              "239            37882           294903.0         1783.0   \n",
              "\n",
              "     Absolute magnitude (Mv)  Star type Star category Star color  \\\n",
              "235                    -9.93          5    Hypergiant       Blue   \n",
              "236                   -10.63          5    Hypergiant       Blue   \n",
              "237                   -10.73          5    Hypergiant      White   \n",
              "238                   -11.23          5    Hypergiant      White   \n",
              "239                    -7.80          5    Hypergiant       Blue   \n",
              "\n",
              "    Spectral Class  \n",
              "235              O  \n",
              "236              O  \n",
              "237              A  \n",
              "238              A  \n",
              "239              O  "
            ],
            "text/html": [
              "\n",
              "  <div id=\"df-d6979850-6da2-40cc-b067-8340c4dcf2cf\" class=\"colab-df-container\">\n",
              "    <div>\n",
              "<style scoped>\n",
              "    .dataframe tbody tr th:only-of-type {\n",
              "        vertical-align: middle;\n",
              "    }\n",
              "\n",
              "    .dataframe tbody tr th {\n",
              "        vertical-align: top;\n",
              "    }\n",
              "\n",
              "    .dataframe thead th {\n",
              "        text-align: right;\n",
              "    }\n",
              "</style>\n",
              "<table border=\"1\" class=\"dataframe\">\n",
              "  <thead>\n",
              "    <tr style=\"text-align: right;\">\n",
              "      <th></th>\n",
              "      <th>Temperature (K)</th>\n",
              "      <th>Luminosity (L/Lo)</th>\n",
              "      <th>Radius (R/Ro)</th>\n",
              "      <th>Absolute magnitude (Mv)</th>\n",
              "      <th>Star type</th>\n",
              "      <th>Star category</th>\n",
              "      <th>Star color</th>\n",
              "      <th>Spectral Class</th>\n",
              "    </tr>\n",
              "  </thead>\n",
              "  <tbody>\n",
              "    <tr>\n",
              "      <th>235</th>\n",
              "      <td>38940</td>\n",
              "      <td>374830.0</td>\n",
              "      <td>1356.0</td>\n",
              "      <td>-9.93</td>\n",
              "      <td>5</td>\n",
              "      <td>Hypergiant</td>\n",
              "      <td>Blue</td>\n",
              "      <td>O</td>\n",
              "    </tr>\n",
              "    <tr>\n",
              "      <th>236</th>\n",
              "      <td>30839</td>\n",
              "      <td>834042.0</td>\n",
              "      <td>1194.0</td>\n",
              "      <td>-10.63</td>\n",
              "      <td>5</td>\n",
              "      <td>Hypergiant</td>\n",
              "      <td>Blue</td>\n",
              "      <td>O</td>\n",
              "    </tr>\n",
              "    <tr>\n",
              "      <th>237</th>\n",
              "      <td>8829</td>\n",
              "      <td>537493.0</td>\n",
              "      <td>1423.0</td>\n",
              "      <td>-10.73</td>\n",
              "      <td>5</td>\n",
              "      <td>Hypergiant</td>\n",
              "      <td>White</td>\n",
              "      <td>A</td>\n",
              "    </tr>\n",
              "    <tr>\n",
              "      <th>238</th>\n",
              "      <td>9235</td>\n",
              "      <td>404940.0</td>\n",
              "      <td>1112.0</td>\n",
              "      <td>-11.23</td>\n",
              "      <td>5</td>\n",
              "      <td>Hypergiant</td>\n",
              "      <td>White</td>\n",
              "      <td>A</td>\n",
              "    </tr>\n",
              "    <tr>\n",
              "      <th>239</th>\n",
              "      <td>37882</td>\n",
              "      <td>294903.0</td>\n",
              "      <td>1783.0</td>\n",
              "      <td>-7.80</td>\n",
              "      <td>5</td>\n",
              "      <td>Hypergiant</td>\n",
              "      <td>Blue</td>\n",
              "      <td>O</td>\n",
              "    </tr>\n",
              "  </tbody>\n",
              "</table>\n",
              "</div>\n",
              "    <div class=\"colab-df-buttons\">\n",
              "\n",
              "  <div class=\"colab-df-container\">\n",
              "    <button class=\"colab-df-convert\" onclick=\"convertToInteractive('df-d6979850-6da2-40cc-b067-8340c4dcf2cf')\"\n",
              "            title=\"Convert this dataframe to an interactive table.\"\n",
              "            style=\"display:none;\">\n",
              "\n",
              "  <svg xmlns=\"http://www.w3.org/2000/svg\" height=\"24px\" viewBox=\"0 -960 960 960\">\n",
              "    <path d=\"M120-120v-720h720v720H120Zm60-500h600v-160H180v160Zm220 220h160v-160H400v160Zm0 220h160v-160H400v160ZM180-400h160v-160H180v160Zm440 0h160v-160H620v160ZM180-180h160v-160H180v160Zm440 0h160v-160H620v160Z\"/>\n",
              "  </svg>\n",
              "    </button>\n",
              "\n",
              "  <style>\n",
              "    .colab-df-container {\n",
              "      display:flex;\n",
              "      gap: 12px;\n",
              "    }\n",
              "\n",
              "    .colab-df-convert {\n",
              "      background-color: #E8F0FE;\n",
              "      border: none;\n",
              "      border-radius: 50%;\n",
              "      cursor: pointer;\n",
              "      display: none;\n",
              "      fill: #1967D2;\n",
              "      height: 32px;\n",
              "      padding: 0 0 0 0;\n",
              "      width: 32px;\n",
              "    }\n",
              "\n",
              "    .colab-df-convert:hover {\n",
              "      background-color: #E2EBFA;\n",
              "      box-shadow: 0px 1px 2px rgba(60, 64, 67, 0.3), 0px 1px 3px 1px rgba(60, 64, 67, 0.15);\n",
              "      fill: #174EA6;\n",
              "    }\n",
              "\n",
              "    .colab-df-buttons div {\n",
              "      margin-bottom: 4px;\n",
              "    }\n",
              "\n",
              "    [theme=dark] .colab-df-convert {\n",
              "      background-color: #3B4455;\n",
              "      fill: #D2E3FC;\n",
              "    }\n",
              "\n",
              "    [theme=dark] .colab-df-convert:hover {\n",
              "      background-color: #434B5C;\n",
              "      box-shadow: 0px 1px 3px 1px rgba(0, 0, 0, 0.15);\n",
              "      filter: drop-shadow(0px 1px 2px rgba(0, 0, 0, 0.3));\n",
              "      fill: #FFFFFF;\n",
              "    }\n",
              "  </style>\n",
              "\n",
              "    <script>\n",
              "      const buttonEl =\n",
              "        document.querySelector('#df-d6979850-6da2-40cc-b067-8340c4dcf2cf button.colab-df-convert');\n",
              "      buttonEl.style.display =\n",
              "        google.colab.kernel.accessAllowed ? 'block' : 'none';\n",
              "\n",
              "      async function convertToInteractive(key) {\n",
              "        const element = document.querySelector('#df-d6979850-6da2-40cc-b067-8340c4dcf2cf');\n",
              "        const dataTable =\n",
              "          await google.colab.kernel.invokeFunction('convertToInteractive',\n",
              "                                                    [key], {});\n",
              "        if (!dataTable) return;\n",
              "\n",
              "        const docLinkHtml = 'Like what you see? Visit the ' +\n",
              "          '<a target=\"_blank\" href=https://colab.research.google.com/notebooks/data_table.ipynb>data table notebook</a>'\n",
              "          + ' to learn more about interactive tables.';\n",
              "        element.innerHTML = '';\n",
              "        dataTable['output_type'] = 'display_data';\n",
              "        await google.colab.output.renderOutput(dataTable, element);\n",
              "        const docLink = document.createElement('div');\n",
              "        docLink.innerHTML = docLinkHtml;\n",
              "        element.appendChild(docLink);\n",
              "      }\n",
              "    </script>\n",
              "  </div>\n",
              "\n",
              "\n",
              "<div id=\"df-bc0cd2fa-80af-4c57-8165-63b4de1b5217\">\n",
              "  <button class=\"colab-df-quickchart\" onclick=\"quickchart('df-bc0cd2fa-80af-4c57-8165-63b4de1b5217')\"\n",
              "            title=\"Suggest charts\"\n",
              "            style=\"display:none;\">\n",
              "\n",
              "<svg xmlns=\"http://www.w3.org/2000/svg\" height=\"24px\"viewBox=\"0 0 24 24\"\n",
              "     width=\"24px\">\n",
              "    <g>\n",
              "        <path d=\"M19 3H5c-1.1 0-2 .9-2 2v14c0 1.1.9 2 2 2h14c1.1 0 2-.9 2-2V5c0-1.1-.9-2-2-2zM9 17H7v-7h2v7zm4 0h-2V7h2v10zm4 0h-2v-4h2v4z\"/>\n",
              "    </g>\n",
              "</svg>\n",
              "  </button>\n",
              "\n",
              "<style>\n",
              "  .colab-df-quickchart {\n",
              "      --bg-color: #E8F0FE;\n",
              "      --fill-color: #1967D2;\n",
              "      --hover-bg-color: #E2EBFA;\n",
              "      --hover-fill-color: #174EA6;\n",
              "      --disabled-fill-color: #AAA;\n",
              "      --disabled-bg-color: #DDD;\n",
              "  }\n",
              "\n",
              "  [theme=dark] .colab-df-quickchart {\n",
              "      --bg-color: #3B4455;\n",
              "      --fill-color: #D2E3FC;\n",
              "      --hover-bg-color: #434B5C;\n",
              "      --hover-fill-color: #FFFFFF;\n",
              "      --disabled-bg-color: #3B4455;\n",
              "      --disabled-fill-color: #666;\n",
              "  }\n",
              "\n",
              "  .colab-df-quickchart {\n",
              "    background-color: var(--bg-color);\n",
              "    border: none;\n",
              "    border-radius: 50%;\n",
              "    cursor: pointer;\n",
              "    display: none;\n",
              "    fill: var(--fill-color);\n",
              "    height: 32px;\n",
              "    padding: 0;\n",
              "    width: 32px;\n",
              "  }\n",
              "\n",
              "  .colab-df-quickchart:hover {\n",
              "    background-color: var(--hover-bg-color);\n",
              "    box-shadow: 0 1px 2px rgba(60, 64, 67, 0.3), 0 1px 3px 1px rgba(60, 64, 67, 0.15);\n",
              "    fill: var(--button-hover-fill-color);\n",
              "  }\n",
              "\n",
              "  .colab-df-quickchart-complete:disabled,\n",
              "  .colab-df-quickchart-complete:disabled:hover {\n",
              "    background-color: var(--disabled-bg-color);\n",
              "    fill: var(--disabled-fill-color);\n",
              "    box-shadow: none;\n",
              "  }\n",
              "\n",
              "  .colab-df-spinner {\n",
              "    border: 2px solid var(--fill-color);\n",
              "    border-color: transparent;\n",
              "    border-bottom-color: var(--fill-color);\n",
              "    animation:\n",
              "      spin 1s steps(1) infinite;\n",
              "  }\n",
              "\n",
              "  @keyframes spin {\n",
              "    0% {\n",
              "      border-color: transparent;\n",
              "      border-bottom-color: var(--fill-color);\n",
              "      border-left-color: var(--fill-color);\n",
              "    }\n",
              "    20% {\n",
              "      border-color: transparent;\n",
              "      border-left-color: var(--fill-color);\n",
              "      border-top-color: var(--fill-color);\n",
              "    }\n",
              "    30% {\n",
              "      border-color: transparent;\n",
              "      border-left-color: var(--fill-color);\n",
              "      border-top-color: var(--fill-color);\n",
              "      border-right-color: var(--fill-color);\n",
              "    }\n",
              "    40% {\n",
              "      border-color: transparent;\n",
              "      border-right-color: var(--fill-color);\n",
              "      border-top-color: var(--fill-color);\n",
              "    }\n",
              "    60% {\n",
              "      border-color: transparent;\n",
              "      border-right-color: var(--fill-color);\n",
              "    }\n",
              "    80% {\n",
              "      border-color: transparent;\n",
              "      border-right-color: var(--fill-color);\n",
              "      border-bottom-color: var(--fill-color);\n",
              "    }\n",
              "    90% {\n",
              "      border-color: transparent;\n",
              "      border-bottom-color: var(--fill-color);\n",
              "    }\n",
              "  }\n",
              "</style>\n",
              "\n",
              "  <script>\n",
              "    async function quickchart(key) {\n",
              "      const quickchartButtonEl =\n",
              "        document.querySelector('#' + key + ' button');\n",
              "      quickchartButtonEl.disabled = true;  // To prevent multiple clicks.\n",
              "      quickchartButtonEl.classList.add('colab-df-spinner');\n",
              "      try {\n",
              "        const charts = await google.colab.kernel.invokeFunction(\n",
              "            'suggestCharts', [key], {});\n",
              "      } catch (error) {\n",
              "        console.error('Error during call to suggestCharts:', error);\n",
              "      }\n",
              "      quickchartButtonEl.classList.remove('colab-df-spinner');\n",
              "      quickchartButtonEl.classList.add('colab-df-quickchart-complete');\n",
              "    }\n",
              "    (() => {\n",
              "      let quickchartButtonEl =\n",
              "        document.querySelector('#df-bc0cd2fa-80af-4c57-8165-63b4de1b5217 button');\n",
              "      quickchartButtonEl.style.display =\n",
              "        google.colab.kernel.accessAllowed ? 'block' : 'none';\n",
              "    })();\n",
              "  </script>\n",
              "</div>\n",
              "\n",
              "    </div>\n",
              "  </div>\n"
            ],
            "application/vnd.google.colaboratory.intrinsic+json": {
              "type": "dataframe",
              "summary": "{\n  \"name\": \"df\",\n  \"rows\": 5,\n  \"fields\": [\n    {\n      \"column\": \"Temperature (K)\",\n      \"properties\": {\n        \"dtype\": \"number\",\n        \"std\": 15035,\n        \"min\": 8829,\n        \"max\": 38940,\n        \"num_unique_values\": 5,\n        \"samples\": [\n          30839,\n          37882,\n          8829\n        ],\n        \"semantic_type\": \"\",\n        \"description\": \"\"\n      }\n    },\n    {\n      \"column\": \"Luminosity (L/Lo)\",\n      \"properties\": {\n        \"dtype\": \"number\",\n        \"std\": 211648.1625653764,\n        \"min\": 294903.0,\n        \"max\": 834042.0,\n        \"num_unique_values\": 5,\n        \"samples\": [\n          834042.0,\n          294903.0,\n          537493.0\n        ],\n        \"semantic_type\": \"\",\n        \"description\": \"\"\n      }\n    },\n    {\n      \"column\": \"Radius (R/Ro)\",\n      \"properties\": {\n        \"dtype\": \"number\",\n        \"std\": 260.31192827068065,\n        \"min\": 1112.0,\n        \"max\": 1783.0,\n        \"num_unique_values\": 5,\n        \"samples\": [\n          1194.0,\n          1783.0,\n          1423.0\n        ],\n        \"semantic_type\": \"\",\n        \"description\": \"\"\n      }\n    },\n    {\n      \"column\": \"Absolute magnitude (Mv)\",\n      \"properties\": {\n        \"dtype\": \"number\",\n        \"std\": 1.3478798166008723,\n        \"min\": -11.23,\n        \"max\": -7.8,\n        \"num_unique_values\": 5,\n        \"samples\": [\n          -10.63,\n          -7.8,\n          -10.73\n        ],\n        \"semantic_type\": \"\",\n        \"description\": \"\"\n      }\n    },\n    {\n      \"column\": \"Star type\",\n      \"properties\": {\n        \"dtype\": \"number\",\n        \"std\": 0,\n        \"min\": 5,\n        \"max\": 5,\n        \"num_unique_values\": 1,\n        \"samples\": [\n          5\n        ],\n        \"semantic_type\": \"\",\n        \"description\": \"\"\n      }\n    },\n    {\n      \"column\": \"Star category\",\n      \"properties\": {\n        \"dtype\": \"category\",\n        \"num_unique_values\": 1,\n        \"samples\": [\n          \"Hypergiant\"\n        ],\n        \"semantic_type\": \"\",\n        \"description\": \"\"\n      }\n    },\n    {\n      \"column\": \"Star color\",\n      \"properties\": {\n        \"dtype\": \"category\",\n        \"num_unique_values\": 2,\n        \"samples\": [\n          \"White\"\n        ],\n        \"semantic_type\": \"\",\n        \"description\": \"\"\n      }\n    },\n    {\n      \"column\": \"Spectral Class\",\n      \"properties\": {\n        \"dtype\": \"category\",\n        \"num_unique_values\": 2,\n        \"samples\": [\n          \"A\"\n        ],\n        \"semantic_type\": \"\",\n        \"description\": \"\"\n      }\n    }\n  ]\n}"
            }
          },
          "metadata": {},
          "execution_count": 8
        }
      ]
    },
    {
      "cell_type": "code",
      "source": [
        "df.shape # no of records and columns"
      ],
      "metadata": {
        "colab": {
          "base_uri": "https://localhost:8080/"
        },
        "id": "qV1HXQyjH0Su",
        "outputId": "b3eeec68-b9e4-45a2-8e48-daaf7a36300e"
      },
      "execution_count": null,
      "outputs": [
        {
          "output_type": "execute_result",
          "data": {
            "text/plain": [
              "(240, 8)"
            ]
          },
          "metadata": {},
          "execution_count": 9
        }
      ]
    },
    {
      "cell_type": "code",
      "source": [
        "df.info()"
      ],
      "metadata": {
        "colab": {
          "base_uri": "https://localhost:8080/"
        },
        "id": "6-B4zBcpIMv1",
        "outputId": "a1295800-4000-462e-f693-111f455d9ad2"
      },
      "execution_count": null,
      "outputs": [
        {
          "output_type": "stream",
          "name": "stdout",
          "text": [
            "<class 'pandas.core.frame.DataFrame'>\n",
            "RangeIndex: 240 entries, 0 to 239\n",
            "Data columns (total 8 columns):\n",
            " #   Column                   Non-Null Count  Dtype  \n",
            "---  ------                   --------------  -----  \n",
            " 0   Temperature (K)          240 non-null    int64  \n",
            " 1   Luminosity (L/Lo)        240 non-null    float64\n",
            " 2   Radius (R/Ro)            240 non-null    float64\n",
            " 3   Absolute magnitude (Mv)  240 non-null    float64\n",
            " 4   Star type                240 non-null    int64  \n",
            " 5   Star category            240 non-null    object \n",
            " 6   Star color               240 non-null    object \n",
            " 7   Spectral Class           240 non-null    object \n",
            "dtypes: float64(3), int64(2), object(3)\n",
            "memory usage: 15.1+ KB\n"
          ]
        }
      ]
    },
    {
      "cell_type": "code",
      "source": [
        "df.nunique()"
      ],
      "metadata": {
        "colab": {
          "base_uri": "https://localhost:8080/",
          "height": 335
        },
        "id": "kiHxxjmnIWTo",
        "outputId": "75352dc1-aa82-4158-dd92-af43daa7e4d6"
      },
      "execution_count": null,
      "outputs": [
        {
          "output_type": "execute_result",
          "data": {
            "text/plain": [
              "Temperature (K)            228\n",
              "Luminosity (L/Lo)          208\n",
              "Radius (R/Ro)              216\n",
              "Absolute magnitude (Mv)    228\n",
              "Star type                    6\n",
              "Star category                6\n",
              "Star color                  19\n",
              "Spectral Class               7\n",
              "dtype: int64"
            ],
            "text/html": [
              "<div>\n",
              "<style scoped>\n",
              "    .dataframe tbody tr th:only-of-type {\n",
              "        vertical-align: middle;\n",
              "    }\n",
              "\n",
              "    .dataframe tbody tr th {\n",
              "        vertical-align: top;\n",
              "    }\n",
              "\n",
              "    .dataframe thead th {\n",
              "        text-align: right;\n",
              "    }\n",
              "</style>\n",
              "<table border=\"1\" class=\"dataframe\">\n",
              "  <thead>\n",
              "    <tr style=\"text-align: right;\">\n",
              "      <th></th>\n",
              "      <th>0</th>\n",
              "    </tr>\n",
              "  </thead>\n",
              "  <tbody>\n",
              "    <tr>\n",
              "      <th>Temperature (K)</th>\n",
              "      <td>228</td>\n",
              "    </tr>\n",
              "    <tr>\n",
              "      <th>Luminosity (L/Lo)</th>\n",
              "      <td>208</td>\n",
              "    </tr>\n",
              "    <tr>\n",
              "      <th>Radius (R/Ro)</th>\n",
              "      <td>216</td>\n",
              "    </tr>\n",
              "    <tr>\n",
              "      <th>Absolute magnitude (Mv)</th>\n",
              "      <td>228</td>\n",
              "    </tr>\n",
              "    <tr>\n",
              "      <th>Star type</th>\n",
              "      <td>6</td>\n",
              "    </tr>\n",
              "    <tr>\n",
              "      <th>Star category</th>\n",
              "      <td>6</td>\n",
              "    </tr>\n",
              "    <tr>\n",
              "      <th>Star color</th>\n",
              "      <td>19</td>\n",
              "    </tr>\n",
              "    <tr>\n",
              "      <th>Spectral Class</th>\n",
              "      <td>7</td>\n",
              "    </tr>\n",
              "  </tbody>\n",
              "</table>\n",
              "</div><br><label><b>dtype:</b> int64</label>"
            ]
          },
          "metadata": {},
          "execution_count": 9
        }
      ]
    },
    {
      "cell_type": "code",
      "source": [
        "df.isnull().sum()"
      ],
      "metadata": {
        "colab": {
          "base_uri": "https://localhost:8080/",
          "height": 335
        },
        "id": "oNcO0MprWltz",
        "outputId": "21d733d0-6126-4684-ef6b-94a7f6f19df9"
      },
      "execution_count": null,
      "outputs": [
        {
          "output_type": "execute_result",
          "data": {
            "text/plain": [
              "Temperature (K)            0\n",
              "Luminosity (L/Lo)          0\n",
              "Radius (R/Ro)              0\n",
              "Absolute magnitude (Mv)    0\n",
              "Star type                  0\n",
              "Star category              0\n",
              "Star color                 0\n",
              "Spectral Class             0\n",
              "dtype: int64"
            ],
            "text/html": [
              "<div>\n",
              "<style scoped>\n",
              "    .dataframe tbody tr th:only-of-type {\n",
              "        vertical-align: middle;\n",
              "    }\n",
              "\n",
              "    .dataframe tbody tr th {\n",
              "        vertical-align: top;\n",
              "    }\n",
              "\n",
              "    .dataframe thead th {\n",
              "        text-align: right;\n",
              "    }\n",
              "</style>\n",
              "<table border=\"1\" class=\"dataframe\">\n",
              "  <thead>\n",
              "    <tr style=\"text-align: right;\">\n",
              "      <th></th>\n",
              "      <th>0</th>\n",
              "    </tr>\n",
              "  </thead>\n",
              "  <tbody>\n",
              "    <tr>\n",
              "      <th>Temperature (K)</th>\n",
              "      <td>0</td>\n",
              "    </tr>\n",
              "    <tr>\n",
              "      <th>Luminosity (L/Lo)</th>\n",
              "      <td>0</td>\n",
              "    </tr>\n",
              "    <tr>\n",
              "      <th>Radius (R/Ro)</th>\n",
              "      <td>0</td>\n",
              "    </tr>\n",
              "    <tr>\n",
              "      <th>Absolute magnitude (Mv)</th>\n",
              "      <td>0</td>\n",
              "    </tr>\n",
              "    <tr>\n",
              "      <th>Star type</th>\n",
              "      <td>0</td>\n",
              "    </tr>\n",
              "    <tr>\n",
              "      <th>Star category</th>\n",
              "      <td>0</td>\n",
              "    </tr>\n",
              "    <tr>\n",
              "      <th>Star color</th>\n",
              "      <td>0</td>\n",
              "    </tr>\n",
              "    <tr>\n",
              "      <th>Spectral Class</th>\n",
              "      <td>0</td>\n",
              "    </tr>\n",
              "  </tbody>\n",
              "</table>\n",
              "</div><br><label><b>dtype:</b> int64</label>"
            ]
          },
          "metadata": {},
          "execution_count": 37
        }
      ]
    },
    {
      "cell_type": "code",
      "source": [
        "df.duplicated().sum()"
      ],
      "metadata": {
        "colab": {
          "base_uri": "https://localhost:8080/"
        },
        "id": "nbtRSz7JIuoB",
        "outputId": "b2355031-a37a-42d4-f0b0-d2f00f3fe74a"
      },
      "execution_count": null,
      "outputs": [
        {
          "output_type": "execute_result",
          "data": {
            "text/plain": [
              "0"
            ]
          },
          "metadata": {},
          "execution_count": 10
        }
      ]
    },
    {
      "cell_type": "code",
      "source": [
        "df.describe()"
      ],
      "metadata": {
        "colab": {
          "base_uri": "https://localhost:8080/",
          "height": 300
        },
        "id": "JGa26o6kI7SV",
        "outputId": "19921722-80d5-41a2-f45f-e40f4bdf97df"
      },
      "execution_count": null,
      "outputs": [
        {
          "output_type": "execute_result",
          "data": {
            "text/plain": [
              "       Temperature (K)  Luminosity (L/Lo)  Radius (R/Ro)  \\\n",
              "count       240.000000         240.000000     240.000000   \n",
              "mean      10497.462500      107188.361635     237.157781   \n",
              "std        9552.425037      179432.244940     517.155763   \n",
              "min        1939.000000           0.000080       0.008400   \n",
              "25%        3344.250000           0.000865       0.102750   \n",
              "50%        5776.000000           0.070500       0.762500   \n",
              "75%       15055.500000      198050.000000      42.750000   \n",
              "max       40000.000000      849420.000000    1948.500000   \n",
              "\n",
              "       Absolute magnitude (Mv)   Star type  \n",
              "count               240.000000  240.000000  \n",
              "mean                  4.382396    2.500000  \n",
              "std                  10.532512    1.711394  \n",
              "min                 -11.920000    0.000000  \n",
              "25%                  -6.232500    1.000000  \n",
              "50%                   8.313000    2.500000  \n",
              "75%                  13.697500    4.000000  \n",
              "max                  20.060000    5.000000  "
            ],
            "text/html": [
              "\n",
              "  <div id=\"df-a2f5a8e7-ea72-460c-ac03-254538a214fe\" class=\"colab-df-container\">\n",
              "    <div>\n",
              "<style scoped>\n",
              "    .dataframe tbody tr th:only-of-type {\n",
              "        vertical-align: middle;\n",
              "    }\n",
              "\n",
              "    .dataframe tbody tr th {\n",
              "        vertical-align: top;\n",
              "    }\n",
              "\n",
              "    .dataframe thead th {\n",
              "        text-align: right;\n",
              "    }\n",
              "</style>\n",
              "<table border=\"1\" class=\"dataframe\">\n",
              "  <thead>\n",
              "    <tr style=\"text-align: right;\">\n",
              "      <th></th>\n",
              "      <th>Temperature (K)</th>\n",
              "      <th>Luminosity (L/Lo)</th>\n",
              "      <th>Radius (R/Ro)</th>\n",
              "      <th>Absolute magnitude (Mv)</th>\n",
              "      <th>Star type</th>\n",
              "    </tr>\n",
              "  </thead>\n",
              "  <tbody>\n",
              "    <tr>\n",
              "      <th>count</th>\n",
              "      <td>240.000000</td>\n",
              "      <td>240.000000</td>\n",
              "      <td>240.000000</td>\n",
              "      <td>240.000000</td>\n",
              "      <td>240.000000</td>\n",
              "    </tr>\n",
              "    <tr>\n",
              "      <th>mean</th>\n",
              "      <td>10497.462500</td>\n",
              "      <td>107188.361635</td>\n",
              "      <td>237.157781</td>\n",
              "      <td>4.382396</td>\n",
              "      <td>2.500000</td>\n",
              "    </tr>\n",
              "    <tr>\n",
              "      <th>std</th>\n",
              "      <td>9552.425037</td>\n",
              "      <td>179432.244940</td>\n",
              "      <td>517.155763</td>\n",
              "      <td>10.532512</td>\n",
              "      <td>1.711394</td>\n",
              "    </tr>\n",
              "    <tr>\n",
              "      <th>min</th>\n",
              "      <td>1939.000000</td>\n",
              "      <td>0.000080</td>\n",
              "      <td>0.008400</td>\n",
              "      <td>-11.920000</td>\n",
              "      <td>0.000000</td>\n",
              "    </tr>\n",
              "    <tr>\n",
              "      <th>25%</th>\n",
              "      <td>3344.250000</td>\n",
              "      <td>0.000865</td>\n",
              "      <td>0.102750</td>\n",
              "      <td>-6.232500</td>\n",
              "      <td>1.000000</td>\n",
              "    </tr>\n",
              "    <tr>\n",
              "      <th>50%</th>\n",
              "      <td>5776.000000</td>\n",
              "      <td>0.070500</td>\n",
              "      <td>0.762500</td>\n",
              "      <td>8.313000</td>\n",
              "      <td>2.500000</td>\n",
              "    </tr>\n",
              "    <tr>\n",
              "      <th>75%</th>\n",
              "      <td>15055.500000</td>\n",
              "      <td>198050.000000</td>\n",
              "      <td>42.750000</td>\n",
              "      <td>13.697500</td>\n",
              "      <td>4.000000</td>\n",
              "    </tr>\n",
              "    <tr>\n",
              "      <th>max</th>\n",
              "      <td>40000.000000</td>\n",
              "      <td>849420.000000</td>\n",
              "      <td>1948.500000</td>\n",
              "      <td>20.060000</td>\n",
              "      <td>5.000000</td>\n",
              "    </tr>\n",
              "  </tbody>\n",
              "</table>\n",
              "</div>\n",
              "    <div class=\"colab-df-buttons\">\n",
              "\n",
              "  <div class=\"colab-df-container\">\n",
              "    <button class=\"colab-df-convert\" onclick=\"convertToInteractive('df-a2f5a8e7-ea72-460c-ac03-254538a214fe')\"\n",
              "            title=\"Convert this dataframe to an interactive table.\"\n",
              "            style=\"display:none;\">\n",
              "\n",
              "  <svg xmlns=\"http://www.w3.org/2000/svg\" height=\"24px\" viewBox=\"0 -960 960 960\">\n",
              "    <path d=\"M120-120v-720h720v720H120Zm60-500h600v-160H180v160Zm220 220h160v-160H400v160Zm0 220h160v-160H400v160ZM180-400h160v-160H180v160Zm440 0h160v-160H620v160ZM180-180h160v-160H180v160Zm440 0h160v-160H620v160Z\"/>\n",
              "  </svg>\n",
              "    </button>\n",
              "\n",
              "  <style>\n",
              "    .colab-df-container {\n",
              "      display:flex;\n",
              "      gap: 12px;\n",
              "    }\n",
              "\n",
              "    .colab-df-convert {\n",
              "      background-color: #E8F0FE;\n",
              "      border: none;\n",
              "      border-radius: 50%;\n",
              "      cursor: pointer;\n",
              "      display: none;\n",
              "      fill: #1967D2;\n",
              "      height: 32px;\n",
              "      padding: 0 0 0 0;\n",
              "      width: 32px;\n",
              "    }\n",
              "\n",
              "    .colab-df-convert:hover {\n",
              "      background-color: #E2EBFA;\n",
              "      box-shadow: 0px 1px 2px rgba(60, 64, 67, 0.3), 0px 1px 3px 1px rgba(60, 64, 67, 0.15);\n",
              "      fill: #174EA6;\n",
              "    }\n",
              "\n",
              "    .colab-df-buttons div {\n",
              "      margin-bottom: 4px;\n",
              "    }\n",
              "\n",
              "    [theme=dark] .colab-df-convert {\n",
              "      background-color: #3B4455;\n",
              "      fill: #D2E3FC;\n",
              "    }\n",
              "\n",
              "    [theme=dark] .colab-df-convert:hover {\n",
              "      background-color: #434B5C;\n",
              "      box-shadow: 0px 1px 3px 1px rgba(0, 0, 0, 0.15);\n",
              "      filter: drop-shadow(0px 1px 2px rgba(0, 0, 0, 0.3));\n",
              "      fill: #FFFFFF;\n",
              "    }\n",
              "  </style>\n",
              "\n",
              "    <script>\n",
              "      const buttonEl =\n",
              "        document.querySelector('#df-a2f5a8e7-ea72-460c-ac03-254538a214fe button.colab-df-convert');\n",
              "      buttonEl.style.display =\n",
              "        google.colab.kernel.accessAllowed ? 'block' : 'none';\n",
              "\n",
              "      async function convertToInteractive(key) {\n",
              "        const element = document.querySelector('#df-a2f5a8e7-ea72-460c-ac03-254538a214fe');\n",
              "        const dataTable =\n",
              "          await google.colab.kernel.invokeFunction('convertToInteractive',\n",
              "                                                    [key], {});\n",
              "        if (!dataTable) return;\n",
              "\n",
              "        const docLinkHtml = 'Like what you see? Visit the ' +\n",
              "          '<a target=\"_blank\" href=https://colab.research.google.com/notebooks/data_table.ipynb>data table notebook</a>'\n",
              "          + ' to learn more about interactive tables.';\n",
              "        element.innerHTML = '';\n",
              "        dataTable['output_type'] = 'display_data';\n",
              "        await google.colab.output.renderOutput(dataTable, element);\n",
              "        const docLink = document.createElement('div');\n",
              "        docLink.innerHTML = docLinkHtml;\n",
              "        element.appendChild(docLink);\n",
              "      }\n",
              "    </script>\n",
              "  </div>\n",
              "\n",
              "\n",
              "<div id=\"df-7941d053-b320-45d0-a674-b47b65c71069\">\n",
              "  <button class=\"colab-df-quickchart\" onclick=\"quickchart('df-7941d053-b320-45d0-a674-b47b65c71069')\"\n",
              "            title=\"Suggest charts\"\n",
              "            style=\"display:none;\">\n",
              "\n",
              "<svg xmlns=\"http://www.w3.org/2000/svg\" height=\"24px\"viewBox=\"0 0 24 24\"\n",
              "     width=\"24px\">\n",
              "    <g>\n",
              "        <path d=\"M19 3H5c-1.1 0-2 .9-2 2v14c0 1.1.9 2 2 2h14c1.1 0 2-.9 2-2V5c0-1.1-.9-2-2-2zM9 17H7v-7h2v7zm4 0h-2V7h2v10zm4 0h-2v-4h2v4z\"/>\n",
              "    </g>\n",
              "</svg>\n",
              "  </button>\n",
              "\n",
              "<style>\n",
              "  .colab-df-quickchart {\n",
              "      --bg-color: #E8F0FE;\n",
              "      --fill-color: #1967D2;\n",
              "      --hover-bg-color: #E2EBFA;\n",
              "      --hover-fill-color: #174EA6;\n",
              "      --disabled-fill-color: #AAA;\n",
              "      --disabled-bg-color: #DDD;\n",
              "  }\n",
              "\n",
              "  [theme=dark] .colab-df-quickchart {\n",
              "      --bg-color: #3B4455;\n",
              "      --fill-color: #D2E3FC;\n",
              "      --hover-bg-color: #434B5C;\n",
              "      --hover-fill-color: #FFFFFF;\n",
              "      --disabled-bg-color: #3B4455;\n",
              "      --disabled-fill-color: #666;\n",
              "  }\n",
              "\n",
              "  .colab-df-quickchart {\n",
              "    background-color: var(--bg-color);\n",
              "    border: none;\n",
              "    border-radius: 50%;\n",
              "    cursor: pointer;\n",
              "    display: none;\n",
              "    fill: var(--fill-color);\n",
              "    height: 32px;\n",
              "    padding: 0;\n",
              "    width: 32px;\n",
              "  }\n",
              "\n",
              "  .colab-df-quickchart:hover {\n",
              "    background-color: var(--hover-bg-color);\n",
              "    box-shadow: 0 1px 2px rgba(60, 64, 67, 0.3), 0 1px 3px 1px rgba(60, 64, 67, 0.15);\n",
              "    fill: var(--button-hover-fill-color);\n",
              "  }\n",
              "\n",
              "  .colab-df-quickchart-complete:disabled,\n",
              "  .colab-df-quickchart-complete:disabled:hover {\n",
              "    background-color: var(--disabled-bg-color);\n",
              "    fill: var(--disabled-fill-color);\n",
              "    box-shadow: none;\n",
              "  }\n",
              "\n",
              "  .colab-df-spinner {\n",
              "    border: 2px solid var(--fill-color);\n",
              "    border-color: transparent;\n",
              "    border-bottom-color: var(--fill-color);\n",
              "    animation:\n",
              "      spin 1s steps(1) infinite;\n",
              "  }\n",
              "\n",
              "  @keyframes spin {\n",
              "    0% {\n",
              "      border-color: transparent;\n",
              "      border-bottom-color: var(--fill-color);\n",
              "      border-left-color: var(--fill-color);\n",
              "    }\n",
              "    20% {\n",
              "      border-color: transparent;\n",
              "      border-left-color: var(--fill-color);\n",
              "      border-top-color: var(--fill-color);\n",
              "    }\n",
              "    30% {\n",
              "      border-color: transparent;\n",
              "      border-left-color: var(--fill-color);\n",
              "      border-top-color: var(--fill-color);\n",
              "      border-right-color: var(--fill-color);\n",
              "    }\n",
              "    40% {\n",
              "      border-color: transparent;\n",
              "      border-right-color: var(--fill-color);\n",
              "      border-top-color: var(--fill-color);\n",
              "    }\n",
              "    60% {\n",
              "      border-color: transparent;\n",
              "      border-right-color: var(--fill-color);\n",
              "    }\n",
              "    80% {\n",
              "      border-color: transparent;\n",
              "      border-right-color: var(--fill-color);\n",
              "      border-bottom-color: var(--fill-color);\n",
              "    }\n",
              "    90% {\n",
              "      border-color: transparent;\n",
              "      border-bottom-color: var(--fill-color);\n",
              "    }\n",
              "  }\n",
              "</style>\n",
              "\n",
              "  <script>\n",
              "    async function quickchart(key) {\n",
              "      const quickchartButtonEl =\n",
              "        document.querySelector('#' + key + ' button');\n",
              "      quickchartButtonEl.disabled = true;  // To prevent multiple clicks.\n",
              "      quickchartButtonEl.classList.add('colab-df-spinner');\n",
              "      try {\n",
              "        const charts = await google.colab.kernel.invokeFunction(\n",
              "            'suggestCharts', [key], {});\n",
              "      } catch (error) {\n",
              "        console.error('Error during call to suggestCharts:', error);\n",
              "      }\n",
              "      quickchartButtonEl.classList.remove('colab-df-spinner');\n",
              "      quickchartButtonEl.classList.add('colab-df-quickchart-complete');\n",
              "    }\n",
              "    (() => {\n",
              "      let quickchartButtonEl =\n",
              "        document.querySelector('#df-7941d053-b320-45d0-a674-b47b65c71069 button');\n",
              "      quickchartButtonEl.style.display =\n",
              "        google.colab.kernel.accessAllowed ? 'block' : 'none';\n",
              "    })();\n",
              "  </script>\n",
              "</div>\n",
              "\n",
              "    </div>\n",
              "  </div>\n"
            ],
            "application/vnd.google.colaboratory.intrinsic+json": {
              "type": "dataframe",
              "summary": "{\n  \"name\": \"df\",\n  \"rows\": 8,\n  \"fields\": [\n    {\n      \"column\": \"Temperature (K)\",\n      \"properties\": {\n        \"dtype\": \"number\",\n        \"std\": 12779.766121551886,\n        \"min\": 240.0,\n        \"max\": 40000.0,\n        \"num_unique_values\": 8,\n        \"samples\": [\n          10497.4625,\n          5776.0,\n          240.0\n        ],\n        \"semantic_type\": \"\",\n        \"description\": \"\"\n      }\n    },\n    {\n      \"column\": \"Luminosity (L/Lo)\",\n      \"properties\": {\n        \"dtype\": \"number\",\n        \"std\": 288312.4983927237,\n        \"min\": 8e-05,\n        \"max\": 849420.0,\n        \"num_unique_values\": 8,\n        \"samples\": [\n          107188.36163460833,\n          0.07050000000000001,\n          240.0\n        ],\n        \"semantic_type\": \"\",\n        \"description\": \"\"\n      }\n    },\n    {\n      \"column\": \"Radius (R/Ro)\",\n      \"properties\": {\n        \"dtype\": \"number\",\n        \"std\": 661.6994798706687,\n        \"min\": 0.0084,\n        \"max\": 1948.5,\n        \"num_unique_values\": 8,\n        \"samples\": [\n          237.157781375,\n          0.7625,\n          240.0\n        ],\n        \"semantic_type\": \"\",\n        \"description\": \"\"\n      }\n    },\n    {\n      \"column\": \"Absolute magnitude (Mv)\",\n      \"properties\": {\n        \"dtype\": \"number\",\n        \"std\": 83.53932085753395,\n        \"min\": -11.92,\n        \"max\": 240.0,\n        \"num_unique_values\": 8,\n        \"samples\": [\n          4.382395833333334,\n          8.312999999999999,\n          240.0\n        ],\n        \"semantic_type\": \"\",\n        \"description\": \"\"\n      }\n    },\n    {\n      \"column\": \"Star type\",\n      \"properties\": {\n        \"dtype\": \"number\",\n        \"std\": 84.02366705518908,\n        \"min\": 0.0,\n        \"max\": 240.0,\n        \"num_unique_values\": 7,\n        \"samples\": [\n          240.0,\n          2.5,\n          4.0\n        ],\n        \"semantic_type\": \"\",\n        \"description\": \"\"\n      }\n    }\n  ]\n}"
            }
          },
          "metadata": {},
          "execution_count": 11
        }
      ]
    },
    {
      "cell_type": "code",
      "source": [
        "df.columns"
      ],
      "metadata": {
        "colab": {
          "base_uri": "https://localhost:8080/"
        },
        "id": "UGds1kxtLDxn",
        "outputId": "6dbba9ef-5932-475c-b219-64fb499bea2b"
      },
      "execution_count": null,
      "outputs": [
        {
          "output_type": "execute_result",
          "data": {
            "text/plain": [
              "Index(['Temperature (K)', 'Luminosity (L/Lo)', 'Radius (R/Ro)',\n",
              "       'Absolute magnitude (Mv)', 'Star type', 'Star category', 'Star color',\n",
              "       'Spectral Class'],\n",
              "      dtype='object')"
            ]
          },
          "metadata": {},
          "execution_count": 12
        }
      ]
    },
    {
      "cell_type": "markdown",
      "source": [
        "## Conclusion from Understanding the DataSet\n",
        "\n",
        "1.   The dataset has 240 records with 8 columns\n",
        "\n",
        "2.   Star Type has relatively fewer unique values we can use this as the target varaible\n",
        "\n",
        "3.   The dataset includes\n",
        "* numerical columns (e.g., Temperature (K), Luminosity (L/Lo), Radius (R/Ro), Absolute Magnitude (Mv)) that are continuous\n",
        "* categorical columns (e.g., Star Type, Star Category, Star Color, Spectral Class)\n",
        "\n",
        "4. No missing Values\n",
        "\n",
        "5. No duplicates\n",
        "\n",
        "\n",
        "\n"
      ],
      "metadata": {
        "id": "flX3ShhjQzTp"
      }
    },
    {
      "cell_type": "markdown",
      "source": [
        "# Exploratory Analysis\n",
        "\n",
        "\n"
      ],
      "metadata": {
        "id": "Xybeh9R4KZru"
      }
    },
    {
      "cell_type": "code",
      "source": [
        "features_continuos = ['Temperature (K)', 'Luminosity (L/Lo)', 'Radius (R/Ro)', 'Absolute magnitude (Mv)']\n",
        "features_categories = ['Spectral Class', 'Star category', 'Star color']\n",
        "target_variable = ['Star type']"
      ],
      "metadata": {
        "id": "ouSD6ZA9KfmS"
      },
      "execution_count": null,
      "outputs": []
    },
    {
      "cell_type": "markdown",
      "source": [
        "## Target Variable exploratory analysis"
      ],
      "metadata": {
        "id": "dnO6rxpOZOtH"
      }
    },
    {
      "cell_type": "code",
      "source": [
        "# Star type distribution\n",
        "\n",
        "fig, axes = plt.subplots(1, 1, figsize=(8, 6))\n",
        "sns.countplot(x=\"Star type\", data=df, ax=axes, palette=\"pastel\")\n",
        "axes.set_title(\"Star type Distribution\")\n",
        "\n",
        "plt.show()"
      ],
      "metadata": {
        "colab": {
          "base_uri": "https://localhost:8080/",
          "height": 671
        },
        "id": "k-aSDeNjY2zz",
        "outputId": "dbb66690-6c6f-4e8f-81fd-4e479a53ce0c"
      },
      "execution_count": null,
      "outputs": [
        {
          "output_type": "stream",
          "name": "stderr",
          "text": [
            "<ipython-input-39-ff230634ebbe>:4: FutureWarning: \n",
            "\n",
            "Passing `palette` without assigning `hue` is deprecated and will be removed in v0.14.0. Assign the `x` variable to `hue` and set `legend=False` for the same effect.\n",
            "\n",
            "  sns.countplot(x=\"Star type\", data=df, ax=axes, palette=\"pastel\")\n"
          ]
        },
        {
          "output_type": "display_data",
          "data": {
            "text/plain": [
              "<Figure size 800x600 with 1 Axes>"
            ],
            "image/png": "[encoded data removed]"
          },
          "metadata": {}
        }
      ]
    },
    {
      "cell_type": "code",
      "source": [
        "df['Star type'].value_counts()"
      ],
      "metadata": {
        "colab": {
          "base_uri": "https://localhost:8080/",
          "height": 303
        },
        "id": "L1HpoKhQZlmq",
        "outputId": "64b2dad5-8b1a-4892-f277-ef58abbbd81f"
      },
      "execution_count": null,
      "outputs": [
        {
          "output_type": "execute_result",
          "data": {
            "text/plain": [
              "Star type\n",
              "0    40\n",
              "1    40\n",
              "2    40\n",
              "3    40\n",
              "4    40\n",
              "5    40\n",
              "Name: count, dtype: int64"
            ],
            "text/html": [
              "<div>\n",
              "<style scoped>\n",
              "    .dataframe tbody tr th:only-of-type {\n",
              "        vertical-align: middle;\n",
              "    }\n",
              "\n",
              "    .dataframe tbody tr th {\n",
              "        vertical-align: top;\n",
              "    }\n",
              "\n",
              "    .dataframe thead th {\n",
              "        text-align: right;\n",
              "    }\n",
              "</style>\n",
              "<table border=\"1\" class=\"dataframe\">\n",
              "  <thead>\n",
              "    <tr style=\"text-align: right;\">\n",
              "      <th></th>\n",
              "      <th>count</th>\n",
              "    </tr>\n",
              "    <tr>\n",
              "      <th>Star type</th>\n",
              "      <th></th>\n",
              "    </tr>\n",
              "  </thead>\n",
              "  <tbody>\n",
              "    <tr>\n",
              "      <th>0</th>\n",
              "      <td>40</td>\n",
              "    </tr>\n",
              "    <tr>\n",
              "      <th>1</th>\n",
              "      <td>40</td>\n",
              "    </tr>\n",
              "    <tr>\n",
              "      <th>2</th>\n",
              "      <td>40</td>\n",
              "    </tr>\n",
              "    <tr>\n",
              "      <th>3</th>\n",
              "      <td>40</td>\n",
              "    </tr>\n",
              "    <tr>\n",
              "      <th>4</th>\n",
              "      <td>40</td>\n",
              "    </tr>\n",
              "    <tr>\n",
              "      <th>5</th>\n",
              "      <td>40</td>\n",
              "    </tr>\n",
              "  </tbody>\n",
              "</table>\n",
              "</div><br><label><b>dtype:</b> int64</label>"
            ]
          },
          "metadata": {},
          "execution_count": 40
        }
      ]
    },
    {
      "cell_type": "markdown",
      "source": [
        "Great! The target variable is balanced"
      ],
      "metadata": {
        "id": "SjOKYy0BZtSJ"
      }
    },
    {
      "cell_type": "markdown",
      "source": [
        "## Features Categorical Exploratory Analysis"
      ],
      "metadata": {
        "id": "urT5vqzvZmAY"
      }
    },
    {
      "cell_type": "code",
      "source": [
        "fig, axes = plt.subplots(2, 2, figsize=(15, 12))\n",
        "\n",
        "# Spectral Class distribution\n",
        "sns.countplot(x=\"Spectral Class\", data=df, ax=axes[0, 0], palette=\"pastel\")\n",
        "axes[0, 0].set_title(\"Spectral Class Distribution\", fontsize=16)\n",
        "axes[0, 0].set_xlabel(\"Spectral Class\", fontsize=12)\n",
        "axes[0, 0].set_ylabel(\"Count\", fontsize=12)\n",
        "axes[0, 0].tick_params(axis='x', labelrotation=45)\n",
        "\n",
        "# Star category distribution\n",
        "sns.countplot(x=\"Star category\", data=df, ax=axes[0, 1], palette=\"muted\")\n",
        "axes[0, 1].set_title(\"Star Category Distribution\", fontsize=16)\n",
        "axes[0, 1].set_xlabel(\"Star Category\", fontsize=12)\n",
        "axes[0, 1].set_ylabel(\"Count\", fontsize=12)\n",
        "axes[0, 1].tick_params(axis='x', labelrotation=45)\n",
        "\n",
        "# Star color distribution\n",
        "sns.countplot(x=\"Star color\", data=df, ax=axes[1, 0], palette=\"muted\")\n",
        "axes[1, 0].set_title(\"Star Color Distribution\", fontsize=16)\n",
        "axes[1, 0].set_xlabel(\"Star Color\", fontsize=12)\n",
        "axes[1, 0].set_ylabel(\"Count\", fontsize=12)\n",
        "axes[1, 0].tick_params(axis='x', labelrotation=90)\n",
        "\n",
        "# Remove the fourth (unused) subplot\n",
        "fig.delaxes(axes[1, 1])\n",
        "\n",
        "plt.tight_layout(pad=3.0)\n",
        "plt.show()\n"
      ],
      "metadata": {
        "colab": {
          "base_uri": "https://localhost:8080/",
          "height": 1000
        },
        "id": "6YYRv2HQdRH0",
        "outputId": "e2f3c25a-9d19-4c87-c6a9-e11f457bace6"
      },
      "execution_count": null,
      "outputs": [
        {
          "output_type": "stream",
          "name": "stderr",
          "text": [
            "<ipython-input-16-a573a9e90dba>:4: FutureWarning: \n",
            "\n",
            "Passing `palette` without assigning `hue` is deprecated and will be removed in v0.14.0. Assign the `x` variable to `hue` and set `legend=False` for the same effect.\n",
            "\n",
            "  sns.countplot(x=\"Spectral Class\", data=df, ax=axes[0, 0], palette=\"pastel\")\n",
            "<ipython-input-16-a573a9e90dba>:11: FutureWarning: \n",
            "\n",
            "Passing `palette` without assigning `hue` is deprecated and will be removed in v0.14.0. Assign the `x` variable to `hue` and set `legend=False` for the same effect.\n",
            "\n",
            "  sns.countplot(x=\"Star category\", data=df, ax=axes[0, 1], palette=\"muted\")\n",
            "<ipython-input-16-a573a9e90dba>:18: FutureWarning: \n",
            "\n",
            "Passing `palette` without assigning `hue` is deprecated and will be removed in v0.14.0. Assign the `x` variable to `hue` and set `legend=False` for the same effect.\n",
            "\n",
            "  sns.countplot(x=\"Star color\", data=df, ax=axes[1, 0], palette=\"muted\")\n"
          ]
        },
        {
          "output_type": "display_data",
          "data": {
            "text/plain": [
              "<Figure size 1500x1200 with 3 Axes>"
            ],
            "image/png": "[encoded data removed]"
          },
          "metadata": {}
        }
      ]
    },
    {
      "cell_type": "code",
      "source": [
        "df['Star category'].value_counts()"
      ],
      "metadata": {
        "colab": {
          "base_uri": "https://localhost:8080/",
          "height": 303
        },
        "id": "-5dn9InCdcnC",
        "outputId": "7a1bd349-7204-4c45-99c9-b4fbc298db07"
      },
      "execution_count": null,
      "outputs": [
        {
          "output_type": "execute_result",
          "data": {
            "text/plain": [
              "Star category\n",
              "Brown Dwarf      40\n",
              "Red Dwarf        40\n",
              "White Dwarf      40\n",
              "Main Sequence    40\n",
              "Supergiant       40\n",
              "Hypergiant       40\n",
              "Name: count, dtype: int64"
            ],
            "text/html": [
              "<div>\n",
              "<style scoped>\n",
              "    .dataframe tbody tr th:only-of-type {\n",
              "        vertical-align: middle;\n",
              "    }\n",
              "\n",
              "    .dataframe tbody tr th {\n",
              "        vertical-align: top;\n",
              "    }\n",
              "\n",
              "    .dataframe thead th {\n",
              "        text-align: right;\n",
              "    }\n",
              "</style>\n",
              "<table border=\"1\" class=\"dataframe\">\n",
              "  <thead>\n",
              "    <tr style=\"text-align: right;\">\n",
              "      <th></th>\n",
              "      <th>count</th>\n",
              "    </tr>\n",
              "    <tr>\n",
              "      <th>Star category</th>\n",
              "      <th></th>\n",
              "    </tr>\n",
              "  </thead>\n",
              "  <tbody>\n",
              "    <tr>\n",
              "      <th>Brown Dwarf</th>\n",
              "      <td>40</td>\n",
              "    </tr>\n",
              "    <tr>\n",
              "      <th>Red Dwarf</th>\n",
              "      <td>40</td>\n",
              "    </tr>\n",
              "    <tr>\n",
              "      <th>White Dwarf</th>\n",
              "      <td>40</td>\n",
              "    </tr>\n",
              "    <tr>\n",
              "      <th>Main Sequence</th>\n",
              "      <td>40</td>\n",
              "    </tr>\n",
              "    <tr>\n",
              "      <th>Supergiant</th>\n",
              "      <td>40</td>\n",
              "    </tr>\n",
              "    <tr>\n",
              "      <th>Hypergiant</th>\n",
              "      <td>40</td>\n",
              "    </tr>\n",
              "  </tbody>\n",
              "</table>\n",
              "</div><br><label><b>dtype:</b> int64</label>"
            ]
          },
          "metadata": {},
          "execution_count": 17
        }
      ]
    },
    {
      "cell_type": "code",
      "source": [
        "df['Spectral Class'].value_counts()"
      ],
      "metadata": {
        "colab": {
          "base_uri": "https://localhost:8080/",
          "height": 335
        },
        "id": "Q25M6IYddeOs",
        "outputId": "2fe2ce53-ceed-489e-990d-9b6d56a903a0"
      },
      "execution_count": null,
      "outputs": [
        {
          "output_type": "execute_result",
          "data": {
            "text/plain": [
              "Spectral Class\n",
              "M    111\n",
              "B     46\n",
              "O     40\n",
              "A     19\n",
              "F     17\n",
              "K      6\n",
              "G      1\n",
              "Name: count, dtype: int64"
            ],
            "text/html": [
              "<div>\n",
              "<style scoped>\n",
              "    .dataframe tbody tr th:only-of-type {\n",
              "        vertical-align: middle;\n",
              "    }\n",
              "\n",
              "    .dataframe tbody tr th {\n",
              "        vertical-align: top;\n",
              "    }\n",
              "\n",
              "    .dataframe thead th {\n",
              "        text-align: right;\n",
              "    }\n",
              "</style>\n",
              "<table border=\"1\" class=\"dataframe\">\n",
              "  <thead>\n",
              "    <tr style=\"text-align: right;\">\n",
              "      <th></th>\n",
              "      <th>count</th>\n",
              "    </tr>\n",
              "    <tr>\n",
              "      <th>Spectral Class</th>\n",
              "      <th></th>\n",
              "    </tr>\n",
              "  </thead>\n",
              "  <tbody>\n",
              "    <tr>\n",
              "      <th>M</th>\n",
              "      <td>111</td>\n",
              "    </tr>\n",
              "    <tr>\n",
              "      <th>B</th>\n",
              "      <td>46</td>\n",
              "    </tr>\n",
              "    <tr>\n",
              "      <th>O</th>\n",
              "      <td>40</td>\n",
              "    </tr>\n",
              "    <tr>\n",
              "      <th>A</th>\n",
              "      <td>19</td>\n",
              "    </tr>\n",
              "    <tr>\n",
              "      <th>F</th>\n",
              "      <td>17</td>\n",
              "    </tr>\n",
              "    <tr>\n",
              "      <th>K</th>\n",
              "      <td>6</td>\n",
              "    </tr>\n",
              "    <tr>\n",
              "      <th>G</th>\n",
              "      <td>1</td>\n",
              "    </tr>\n",
              "  </tbody>\n",
              "</table>\n",
              "</div><br><label><b>dtype:</b> int64</label>"
            ]
          },
          "metadata": {},
          "execution_count": 18
        }
      ]
    },
    {
      "cell_type": "code",
      "source": [
        "df['Star color'].value_counts()"
      ],
      "metadata": {
        "colab": {
          "base_uri": "https://localhost:8080/",
          "height": 711
        },
        "id": "0AdcHglqdkmx",
        "outputId": "d3ac6fa5-56fe-409a-9b19-65a85adcf55e"
      },
      "execution_count": null,
      "outputs": [
        {
          "output_type": "execute_result",
          "data": {
            "text/plain": [
              "Star color\n",
              "Red                   112\n",
              "Blue                   55\n",
              "Blue-white             26\n",
              "Blue White             10\n",
              "yellow-white            8\n",
              "White                   7\n",
              "Blue white              3\n",
              "Yellowish White         3\n",
              "white                   3\n",
              "Whitish                 2\n",
              "Orange                  2\n",
              "yellowish               2\n",
              "Pale yellow orange      1\n",
              "White-Yellow            1\n",
              "Blue                    1\n",
              "Yellowish               1\n",
              "Orange-Red              1\n",
              "Blue white              1\n",
              "Blue-White              1\n",
              "Name: count, dtype: int64"
            ],
            "text/html": [
              "<div>\n",
              "<style scoped>\n",
              "    .dataframe tbody tr th:only-of-type {\n",
              "        vertical-align: middle;\n",
              "    }\n",
              "\n",
              "    .dataframe tbody tr th {\n",
              "        vertical-align: top;\n",
              "    }\n",
              "\n",
              "    .dataframe thead th {\n",
              "        text-align: right;\n",
              "    }\n",
              "</style>\n",
              "<table border=\"1\" class=\"dataframe\">\n",
              "  <thead>\n",
              "    <tr style=\"text-align: right;\">\n",
              "      <th></th>\n",
              "      <th>count</th>\n",
              "    </tr>\n",
              "    <tr>\n",
              "      <th>Star color</th>\n",
              "      <th></th>\n",
              "    </tr>\n",
              "  </thead>\n",
              "  <tbody>\n",
              "    <tr>\n",
              "      <th>Red</th>\n",
              "      <td>112</td>\n",
              "    </tr>\n",
              "    <tr>\n",
              "      <th>Blue</th>\n",
              "      <td>55</td>\n",
              "    </tr>\n",
              "    <tr>\n",
              "      <th>Blue-white</th>\n",
              "      <td>26</td>\n",
              "    </tr>\n",
              "    <tr>\n",
              "      <th>Blue White</th>\n",
              "      <td>10</td>\n",
              "    </tr>\n",
              "    <tr>\n",
              "      <th>yellow-white</th>\n",
              "      <td>8</td>\n",
              "    </tr>\n",
              "    <tr>\n",
              "      <th>White</th>\n",
              "      <td>7</td>\n",
              "    </tr>\n",
              "    <tr>\n",
              "      <th>Blue white</th>\n",
              "      <td>3</td>\n",
              "    </tr>\n",
              "    <tr>\n",
              "      <th>Yellowish White</th>\n",
              "      <td>3</td>\n",
              "    </tr>\n",
              "    <tr>\n",
              "      <th>white</th>\n",
              "      <td>3</td>\n",
              "    </tr>\n",
              "    <tr>\n",
              "      <th>Whitish</th>\n",
              "      <td>2</td>\n",
              "    </tr>\n",
              "    <tr>\n",
              "      <th>Orange</th>\n",
              "      <td>2</td>\n",
              "    </tr>\n",
              "    <tr>\n",
              "      <th>yellowish</th>\n",
              "      <td>2</td>\n",
              "    </tr>\n",
              "    <tr>\n",
              "      <th>Pale yellow orange</th>\n",
              "      <td>1</td>\n",
              "    </tr>\n",
              "    <tr>\n",
              "      <th>White-Yellow</th>\n",
              "      <td>1</td>\n",
              "    </tr>\n",
              "    <tr>\n",
              "      <th>Blue</th>\n",
              "      <td>1</td>\n",
              "    </tr>\n",
              "    <tr>\n",
              "      <th>Yellowish</th>\n",
              "      <td>1</td>\n",
              "    </tr>\n",
              "    <tr>\n",
              "      <th>Orange-Red</th>\n",
              "      <td>1</td>\n",
              "    </tr>\n",
              "    <tr>\n",
              "      <th>Blue white</th>\n",
              "      <td>1</td>\n",
              "    </tr>\n",
              "    <tr>\n",
              "      <th>Blue-White</th>\n",
              "      <td>1</td>\n",
              "    </tr>\n",
              "  </tbody>\n",
              "</table>\n",
              "</div><br><label><b>dtype:</b> int64</label>"
            ]
          },
          "metadata": {},
          "execution_count": 19
        }
      ]
    },
    {
      "cell_type": "markdown",
      "source": [
        "### Findings\n",
        "#### Spectral Class Distribution:\n",
        "\n",
        "* The plot shows the distribution of stars across different spectral classes.\n",
        "* The most common spectral class is M, followed by K and G.\n",
        "* The least common spectral class is O.\n",
        "\n",
        "#### Star Category Distribution:\n",
        "\n",
        "* The most common category is Main Sequence, followed by Red Dwarf and White Dwarf.\n",
        "* The least common categories are Brown Dwarf and Hypergiant.\n",
        "\n",
        "\n",
        "#### Star Color Distribution:\n",
        "\n",
        "* This plot shows the distribution of stars based on their color.\n",
        "* The most common color is White, followed by Yellow-White and Blue-White.\n",
        "* The least common colors are Blue-White and Orange-Red."
      ],
      "metadata": {
        "id": "__O_3tYKdqQk"
      }
    },
    {
      "cell_type": "markdown",
      "source": [
        "## Feature Continuos exploratory analysis"
      ],
      "metadata": {
        "id": "4pw8V8LXZ8yG"
      }
    },
    {
      "cell_type": "code",
      "source": [
        "fig, axes = plt.subplots(2, 2, figsize=(12, 8))\n",
        "\n",
        "# Temperature (K) distribution\n",
        "sns.histplot(df[\"Temperature (K)\"], kde=True, ax=axes[0, 0], color=\"skyblue\")\n",
        "axes[0, 0].set_title(\"Temperature (K) Distribution\")\n",
        "\n",
        "# Radius (R/Ro) distribution\n",
        "sns.histplot(df[\"Radius (R/Ro)\"], kde=True, ax=axes[0, 1], color=\"lightgreen\")\n",
        "axes[0, 1].set_title(\"Radius (R/Ro) Distribution\")\n",
        "\n",
        "# Luminosity (L/Lo) distribution\n",
        "sns.histplot(df[\"Luminosity (L/Lo)\"], kde=True, ax=axes[1, 0], color=\"salmon\")\n",
        "axes[1, 0].set_title(\"Luminosity (L/Lo) Distribution\")\n",
        "\n",
        "# Absolute magnitude (Mv) distribution\n",
        "sns.histplot(df[\"Absolute magnitude (Mv)\"], kde=True, ax=axes[1, 1], color=\"maroon\")\n",
        "axes[1, 1].set_title(\"Absolute magnitude (Mv) Distribution\")\n",
        "\n",
        "plt.tight_layout()\n",
        "plt.show()"
      ],
      "metadata": {
        "colab": {
          "base_uri": "https://localhost:8080/",
          "height": 787
        },
        "id": "scqXSLrtMQF_",
        "outputId": "19a710c2-f201-4428-840a-bc68daf6d616"
      },
      "execution_count": null,
      "outputs": [
        {
          "output_type": "display_data",
          "data": {
            "text/plain": [
              "<Figure size 1200x800 with 4 Axes>"
            ],
            "image/png": "[encoded data removed]"
          },
          "metadata": {}
        }
      ]
    },
    {
      "cell_type": "markdown",
      "source": [
        "### Findings                   \n",
        "* Temperature: The distribution is skewed to the right, with a peak around 10,000 K. This indicates that a majority of stars are relatively cool.\n",
        "\n",
        "* Radius: The distribution is also skewed to the right, with a peak around 100 Ro (solar radii). This suggests that most stars are smaller than our Sun.\n",
        "\n",
        "* Luminosity: The distribution is again skewed to the right, with a peak around 10^4 Lo (solar luminosities). This means that most stars are less luminous than the Sun.\n",
        "\n",
        "* Absolute magnitude: The distribution is bimodal, with peaks around -10 and 10. This suggests that there are two distinct populations of stars: those that are very bright (-10) and those that are less bright (10).\n",
        "\n",
        "### Conclusion\n",
        "The distribution of stars is characterized where by The majority of stars appear to be relatively cool, small, and dim than the sun. Interestingly, the absolute magnitude distribution exhibits two distinct peaks, possibly indicating the presence of two different types of stars"
      ],
      "metadata": {
        "id": "8sBtZzFNVBZR"
      }
    },
    {
      "cell_type": "code",
      "source": [
        "numeric_df = df.select_dtypes(include='number')\n",
        "\n",
        "plt.figure(figsize=(6, 4))\n",
        "sns.heatmap(numeric_df.corr(), annot=True, cmap='coolwarm')\n",
        "plt.title('Feature Correlations')\n",
        "plt.show()"
      ],
      "metadata": {
        "colab": {
          "base_uri": "https://localhost:8080/",
          "height": 552
        },
        "id": "fCjeQFg6Ez-j",
        "outputId": "cc705b3d-cb9c-4b27-fa49-21e1e23ecf58"
      },
      "execution_count": null,
      "outputs": [
        {
          "output_type": "display_data",
          "data": {
            "text/plain": [
              "<Figure size 600x400 with 2 Axes>"
            ],
            "image/png": "[encoded data removed]"
          },
          "metadata": {}
        }
      ]
    },
    {
      "cell_type": "markdown",
      "source": [
        "### Interpretation of Correlations:\n",
        "\n",
        "#### Positive Correlations:\n",
        "\n",
        "* **Temperature and Luminosity**: A positive correlation means that as the temperature of a star increases, its luminosity also tends to increase.\n",
        "\n",
        "* **Luminosity and Radius**: A positive correlation indicates that larger stars tend to be more luminous.\n",
        "\n",
        "* **Star Type and Luminosity**: A positive correlation suggests that certain star types tend to be more luminous.\n",
        "\n",
        "#### Negative Correlations:\n",
        "\n",
        "* **Absolute Magnitude and Temperature**: A negative correlation means that as the temperature of a star increases, its absolute magnitude (apparent brightness) tends to decrease.\n",
        "\n",
        "* **Absolute Magnitude and Luminosity**: A negative correlation indicates that more luminous stars tend to have lower absolute magnitudes\n",
        "\n",
        "* **Star Type and Absolute Magnitude**: A negative correlation suggests that certain star types tend to have lower absolute magnitudes"
      ],
      "metadata": {
        "id": "YmvEj8iQhMLc"
      }
    },
    {
      "cell_type": "code",
      "source": [
        "plt.figure(figsize=(10, 8))\n",
        "sns.scatterplot(data=df, x='Temperature (K)', y='Luminosity (L/Lo)', hue='Star type', palette='viridis')\n",
        "plt.title('Temperature vs. Luminosity by Star Type')\n",
        "plt.xlabel('Temperature (K)')\n",
        "plt.ylabel('Luminosity (L/Lo)')\n",
        "plt.show()"
      ],
      "metadata": {
        "id": "h8Z2-Fn4I24R",
        "colab": {
          "base_uri": "https://localhost:8080/",
          "height": 718
        },
        "outputId": "0eccb78a-f369-481f-a70c-a5c8470783d7"
      },
      "execution_count": null,
      "outputs": [
        {
          "output_type": "display_data",
          "data": {
            "text/plain": [
              "<Figure size 1000x800 with 1 Axes>"
            ],
            "image/png": "[encoded data removed]"
          },
          "metadata": {}
        }
      ]
    },
    {
      "cell_type": "markdown",
      "source": [
        "### Findings\n",
        "There seems to be a general trend where stars with higher temperatures tend to have higher luminosities."
      ],
      "metadata": {
        "id": "gmSJzcxagG0W"
      }
    },
    {
      "cell_type": "markdown",
      "source": [
        "## Verification the optimal k for classification"
      ],
      "metadata": {
        "id": "c6y36YMwm-ZT"
      }
    },
    {
      "cell_type": "code",
      "source": [
        "X = df[['Temperature (K)', 'Luminosity (L/Lo)']]\n",
        "y = df['Star type']\n",
        "\n",
        "X_train, X_test, y_train, y_test = train_test_split(X, y, test_size=0.2, random_state=42)\n",
        "\n",
        "# Determine the optimal k\n",
        "accuracy_scores = []\n",
        "k_values = range(1, 21)\n",
        "\n",
        "for k in k_values:\n",
        "    knn = KNeighborsClassifier(n_neighbors=k)\n",
        "    knn.fit(X_train, y_train)\n",
        "    y_pred = knn.predict(X_test)\n",
        "    accuracy_scores.append(accuracy_score(y_test, y_pred))\n",
        "\n",
        "# Plotting accuracy vs. k values\n",
        "plt.plot(k_values, accuracy_scores, marker='o')\n",
        "plt.xlabel('Number of Neighbors (k)')\n",
        "plt.ylabel('Accuracy')\n",
        "plt.title('k-NN Accuracy for Different k Values')\n",
        "plt.show()\n",
        "\n",
        "# Optimal k based on highest accuracy\n",
        "optimal_k = k_values[accuracy_scores.index(max(accuracy_scores))]\n",
        "print(f'Optimal k: {optimal_k}')"
      ],
      "metadata": {
        "colab": {
          "base_uri": "https://localhost:8080/",
          "height": 489
        },
        "id": "XAf6_TGRKCuA",
        "outputId": "f5417291-7cd8-4f17-d8aa-79e6453ca5d4"
      },
      "execution_count": null,
      "outputs": [
        {
          "output_type": "display_data",
          "data": {
            "text/plain": [
              "<Figure size 640x480 with 1 Axes>"
            ],
            "image/png": "[encoded data removed]"
          },
          "metadata": {}
        },
        {
          "output_type": "stream",
          "name": "stdout",
          "text": [
            "Optimal k: 3\n"
          ]
        }
      ]
    },
    {
      "cell_type": "markdown",
      "source": [
        "## Train and Split"
      ],
      "metadata": {
        "id": "Pc8CVZeo2S9D"
      }
    },
    {
      "cell_type": "code",
      "source": [
        "# Scale the data using MinMaxScaler\n",
        "scaler = MinMaxScaler()\n",
        "X_train_scaled = scaler.fit_transform(X_train)\n",
        "X_test_scaled = scaler.transform(X_test)\n",
        "\n",
        "# Train the final k-NN model using the optimal k\n",
        "knn_optimal = KNeighborsClassifier(n_neighbors=optimal_k)\n",
        "knn_optimal.fit(X_train_scaled, y_train)\n",
        "\n",
        "# Predict on the test set\n",
        "y_pred = knn_optimal.predict(X_test_scaled)\n",
        "\n",
        "# Confusion matrix\n",
        "conf_matrix = confusion_matrix(y_test, y_pred)\n",
        "print(\"KNN Confusion Matrix:\")\n",
        "print(conf_matrix)\n",
        "\n",
        "# Classification report\n",
        "print(\"\\nClassification Report:\")\n",
        "print(classification_report(y_test, y_pred))"
      ],
      "metadata": {
        "colab": {
          "base_uri": "https://localhost:8080/"
        },
        "id": "XzM7KYMnqLkK",
        "outputId": "19f91453-c550-4e6b-8ac9-d47837da4654"
      },
      "execution_count": null,
      "outputs": [
        {
          "output_type": "stream",
          "name": "stdout",
          "text": [
            "KNN Confusion Matrix:\n",
            "[[7 1 0 0 0 0]\n",
            " [3 4 0 0 0 0]\n",
            " [0 0 6 0 0 0]\n",
            " [0 0 2 5 1 0]\n",
            " [0 0 0 0 3 5]\n",
            " [0 0 0 0 4 7]]\n",
            "\n",
            "Classification Report:\n",
            "              precision    recall  f1-score   support\n",
            "\n",
            "           0       0.70      0.88      0.78         8\n",
            "           1       0.80      0.57      0.67         7\n",
            "           2       0.75      1.00      0.86         6\n",
            "           3       1.00      0.62      0.77         8\n",
            "           4       0.38      0.38      0.38         8\n",
            "           5       0.58      0.64      0.61        11\n",
            "\n",
            "    accuracy                           0.67        48\n",
            "   macro avg       0.70      0.68      0.68        48\n",
            "weighted avg       0.69      0.67      0.66        48\n",
            "\n"
          ]
        }
      ]
    },
    {
      "cell_type": "markdown",
      "source": [
        "### k-Nearest Neighbors performance (k-NN)\n",
        "\n",
        "* Accuracy: 67%\n",
        "\n",
        "* Performance Summary:\n",
        "  * Moderate accuracy.\n",
        "  * Good performance in classifying classes 0, 2, and 3.\n",
        "  * Lower recall for some classes (like 4 and 5), indicating missed instances."
      ],
      "metadata": {
        "id": "5d9A00gg2vzP"
      }
    },
    {
      "cell_type": "code",
      "source": [
        "# Train the basic Decision Tree model\n",
        "dt_clf = DecisionTreeClassifier(random_state=42)\n",
        "dt_clf.fit(X_train, y_train)\n",
        "\n",
        "# Predictions\n",
        "y_pred_dt = dt_clf.predict(X_test)\n",
        "\n",
        "print(\"Decision Tree - Basic Model\")\n",
        "print(\"Confusion Matrix:\\n\", confusion_matrix(y_test, y_pred_dt))\n",
        "print(\"\\nClassification Report:\\n\", classification_report(y_test, y_pred_dt))"
      ],
      "metadata": {
        "colab": {
          "base_uri": "https://localhost:8080/"
        },
        "id": "3zDx8rtGkfRa",
        "outputId": "ab7a5e75-8d48-4e21-e554-d4de6d6a578f"
      },
      "execution_count": null,
      "outputs": [
        {
          "output_type": "stream",
          "name": "stdout",
          "text": [
            "Decision Tree - Basic Model\n",
            "Confusion Matrix:\n",
            " [[ 8  0  0  0  0  0]\n",
            " [ 0  7  0  0  0  0]\n",
            " [ 0  0  6  0  0  0]\n",
            " [ 0  0  0  8  0  0]\n",
            " [ 0  0  0  0  8  0]\n",
            " [ 0  0  0  0  0 11]]\n",
            "\n",
            "Classification Report:\n",
            "               precision    recall  f1-score   support\n",
            "\n",
            "           0       1.00      1.00      1.00         8\n",
            "           1       1.00      1.00      1.00         7\n",
            "           2       1.00      1.00      1.00         6\n",
            "           3       1.00      1.00      1.00         8\n",
            "           4       1.00      1.00      1.00         8\n",
            "           5       1.00      1.00      1.00        11\n",
            "\n",
            "    accuracy                           1.00        48\n",
            "   macro avg       1.00      1.00      1.00        48\n",
            "weighted avg       1.00      1.00      1.00        48\n",
            "\n"
          ]
        }
      ]
    },
    {
      "cell_type": "markdown",
      "source": [
        "### Decision Tree - Basic Model\n",
        "\n",
        "* Accuracy: 100%\n",
        "* Performance Summary:\n",
        "  * Perfect accuracy and precision for all classes, indicating that it classified every instance correctly.\n",
        "  * Very high performance but may risk underfiting/overfiting due to the perfect score."
      ],
      "metadata": {
        "id": "sw5Gx9_63C-g"
      }
    },
    {
      "cell_type": "code",
      "source": [
        "# Define the parameter grid\n",
        "param_grid = {\n",
        "    'max_depth': [3, 5, 10, None],\n",
        "    'min_samples_split': [2, 5, 10],\n",
        "    'min_samples_leaf': [1, 2, 4],\n",
        "    'criterion': ['gini', 'entropy']\n",
        "}\n",
        "\n",
        "# Initialize a basic Decision Tree model\n",
        "dt_clf = DecisionTreeClassifier(random_state=42)\n",
        "\n",
        "# Set up Grid Search with cross-validation\n",
        "grid_search = GridSearchCV(estimator=dt_clf, param_grid=param_grid, cv=5, scoring='accuracy', n_jobs=-1)\n",
        "grid_search.fit(X_train, y_train)\n",
        "\n",
        "# Best hyperparameters from Grid Search\n",
        "best_params = grid_search.best_params_\n",
        "print(\"Best hyperparameters:\", best_params)\n",
        "\n",
        "# Train the Decision Tree model with the best hyperparameters\n",
        "best_dt_clf = grid_search.best_estimator_\n",
        "best_dt_clf.fit(X_train, y_train)\n",
        "\n",
        "# Predictions\n",
        "y_pred_dt = best_dt_clf.predict(X_test)\n",
        "\n",
        "# Evaluation\n",
        "print(\"Decision Tree - Tuned Model\")\n",
        "print(\"Confusion Matrix:\\n\", confusion_matrix(y_test, y_pred_dt))\n",
        "print(\"\\nClassification Report:\\n\", classification_report(y_test, y_pred_dt))"
      ],
      "metadata": {
        "colab": {
          "base_uri": "https://localhost:8080/"
        },
        "id": "J5_MUZzktXzV",
        "outputId": "f52c4d2e-4b53-46e9-dbc7-24621f8f2881"
      },
      "execution_count": null,
      "outputs": [
        {
          "output_type": "stream",
          "name": "stdout",
          "text": [
            "Best hyperparameters: {'criterion': 'gini', 'max_depth': 5, 'min_samples_leaf': 2, 'min_samples_split': 5}\n",
            "Decision Tree - Tuned Model\n",
            "Confusion Matrix:\n",
            " [[8 0 0 0 0 0]\n",
            " [0 7 0 0 0 0]\n",
            " [0 0 6 0 0 0]\n",
            " [0 0 0 8 0 0]\n",
            " [0 0 0 0 5 3]\n",
            " [0 0 0 0 3 8]]\n",
            "\n",
            "Classification Report:\n",
            "               precision    recall  f1-score   support\n",
            "\n",
            "           0       1.00      1.00      1.00         8\n",
            "           1       1.00      1.00      1.00         7\n",
            "           2       1.00      1.00      1.00         6\n",
            "           3       1.00      1.00      1.00         8\n",
            "           4       0.62      0.62      0.62         8\n",
            "           5       0.73      0.73      0.73        11\n",
            "\n",
            "    accuracy                           0.88        48\n",
            "   macro avg       0.89      0.89      0.89        48\n",
            "weighted avg       0.88      0.88      0.88        48\n",
            "\n"
          ]
        }
      ]
    },
    {
      "cell_type": "markdown",
      "source": [
        "### Decision Tree - Tuned Model\n",
        "\n",
        "* Accuracy: 88%\n",
        "* Performance Summary:\n",
        "  * Strong accuracy, second only to the basic Decision Tree model.\n",
        "  * High precision and recall across most classes, though slightly lower in class 4.\n",
        "  * Likely a more generalizable option than the basic Decision Tree, with less overfitting/underfiting risk."
      ],
      "metadata": {
        "id": "dSBhB4F23atI"
      }
    },
    {
      "cell_type": "code",
      "source": [
        "# Scale the data using MinMaxScaler\n",
        "scaler = MinMaxScaler()\n",
        "X_train_scaled = scaler.fit_transform(X_train)\n",
        "X_test_scaled = scaler.transform(X_test)\n",
        "\n",
        "# Train the SVM model on the scaled data\n",
        "svm_clf = SVC(random_state=42)\n",
        "svm_clf.fit(X_train_scaled, y_train)\n",
        "\n",
        "# Predictions on the test set\n",
        "y_pred_svm = svm_clf.predict(X_test_scaled)\n",
        "\n",
        "# Evaluate the model\n",
        "print(\"SVM - Basic Model\")\n",
        "print(\"Confusion Matrix:\\n\", confusion_matrix(y_test, y_pred_svm))\n",
        "print(\"\\nClassification Report:\\n\", classification_report(y_test, y_pred_svm))"
      ],
      "metadata": {
        "colab": {
          "base_uri": "https://localhost:8080/"
        },
        "id": "O8uKjErHrWw7",
        "outputId": "11fa4152-4e89-44a9-8688-d22e3b8f943a"
      },
      "execution_count": null,
      "outputs": [
        {
          "output_type": "stream",
          "name": "stdout",
          "text": [
            "SVM - Basic Model\n",
            "Confusion Matrix:\n",
            " [[0 8 0 0 0 0]\n",
            " [0 7 0 0 0 0]\n",
            " [0 0 6 0 0 0]\n",
            " [0 3 2 2 1 0]\n",
            " [0 0 0 0 4 4]\n",
            " [0 0 0 0 3 8]]\n",
            "\n",
            "Classification Report:\n",
            "               precision    recall  f1-score   support\n",
            "\n",
            "           0       0.00      0.00      0.00         8\n",
            "           1       0.39      1.00      0.56         7\n",
            "           2       0.75      1.00      0.86         6\n",
            "           3       1.00      0.25      0.40         8\n",
            "           4       0.50      0.50      0.50         8\n",
            "           5       0.67      0.73      0.70        11\n",
            "\n",
            "    accuracy                           0.56        48\n",
            "   macro avg       0.55      0.58      0.50        48\n",
            "weighted avg       0.55      0.56      0.50        48\n",
            "\n"
          ]
        },
        {
          "output_type": "stream",
          "name": "stderr",
          "text": [
            "/usr/local/lib/python3.10/dist-packages/sklearn/metrics/_classification.py:1531: UndefinedMetricWarning: Precision is ill-defined and being set to 0.0 in labels with no predicted samples. Use `zero_division` parameter to control this behavior.\n",
            "  _warn_prf(average, modifier, f\"{metric.capitalize()} is\", len(result))\n",
            "/usr/local/lib/python3.10/dist-packages/sklearn/metrics/_classification.py:1531: UndefinedMetricWarning: Precision is ill-defined and being set to 0.0 in labels with no predicted samples. Use `zero_division` parameter to control this behavior.\n",
            "  _warn_prf(average, modifier, f\"{metric.capitalize()} is\", len(result))\n",
            "/usr/local/lib/python3.10/dist-packages/sklearn/metrics/_classification.py:1531: UndefinedMetricWarning: Precision is ill-defined and being set to 0.0 in labels with no predicted samples. Use `zero_division` parameter to control this behavior.\n",
            "  _warn_prf(average, modifier, f\"{metric.capitalize()} is\", len(result))\n"
          ]
        }
      ]
    },
    {
      "cell_type": "markdown",
      "source": [
        "### SVM - Basic Model\n",
        "\n",
        "* Accuracy: 56%\n",
        "* Performance Summary:\n",
        "  * Lower accuracy compared to other models.\n",
        "  * Perfect recall for class 1 but poor performance on class 0.\n",
        "  * Generally weaker classification performance, suggesting this model may need tuning."
      ],
      "metadata": {
        "id": "NawSCjN93qap"
      }
    },
    {
      "cell_type": "code",
      "source": [
        "# Scale the data using MinMaxScaler\n",
        "scaler = MinMaxScaler()\n",
        "X_train_scaled = scaler.fit_transform(X_train)\n",
        "X_test_scaled = scaler.transform(X_test)\n",
        "\n",
        "# Define the parameter grid for Grid Search\n",
        "param_grid = {\n",
        "    'C': [0.1, 1, 10, 100],          # Regularization parameter\n",
        "    'gamma': ['scale', 'auto', 0.01, 0.1, 1],  # Kernel coefficient\n",
        "    'kernel': ['linear', 'rbf', 'poly', 'sigmoid']  # Types of kernel\n",
        "}\n",
        "\n",
        "# Initialize an SVM model\n",
        "svm_clf = SVC(random_state=42)\n",
        "\n",
        "# Set up Grid Search with cross-validation\n",
        "grid_search = GridSearchCV(estimator=svm_clf, param_grid=param_grid, cv=5, scoring='accuracy', n_jobs=-1)\n",
        "grid_search.fit(X_train_scaled, y_train)\n",
        "\n",
        "# Best hyperparameters from Grid Search\n",
        "best_params = grid_search.best_params_\n",
        "print(\"Best hyperparameters:\", best_params)\n",
        "\n",
        "# Train the SVM model with the best hyperparameters\n",
        "best_svm_clf = grid_search.best_estimator_\n",
        "best_svm_clf.fit(X_train_scaled, y_train)\n",
        "\n",
        "# Predictions on the test set\n",
        "y_pred_svm = best_svm_clf.predict(X_test_scaled)\n",
        "\n",
        "# Evaluation\n",
        "print(\"SVM - Tuned Model\")\n",
        "print(\"Confusion Matrix:\\n\", confusion_matrix(y_test, y_pred_svm))\n",
        "print(\"\\nClassification Report:\\n\", classification_report(y_test, y_pred_svm))"
      ],
      "metadata": {
        "colab": {
          "base_uri": "https://localhost:8080/"
        },
        "id": "YmIYfkIwtygo",
        "outputId": "a024f555-bed0-4708-9ec1-8c65a47b8cf8"
      },
      "execution_count": null,
      "outputs": [
        {
          "output_type": "stream",
          "name": "stdout",
          "text": [
            "Best hyperparameters: {'C': 100, 'gamma': 'scale', 'kernel': 'rbf'}\n",
            "SVM - Tuned Model\n",
            "Confusion Matrix:\n",
            " [[6 2 0 0 0 0]\n",
            " [3 4 0 0 0 0]\n",
            " [0 0 6 0 0 0]\n",
            " [0 0 2 5 1 0]\n",
            " [0 0 0 0 4 4]\n",
            " [0 0 0 0 3 8]]\n",
            "\n",
            "Classification Report:\n",
            "               precision    recall  f1-score   support\n",
            "\n",
            "           0       0.67      0.75      0.71         8\n",
            "           1       0.67      0.57      0.62         7\n",
            "           2       0.75      1.00      0.86         6\n",
            "           3       1.00      0.62      0.77         8\n",
            "           4       0.50      0.50      0.50         8\n",
            "           5       0.67      0.73      0.70        11\n",
            "\n",
            "    accuracy                           0.69        48\n",
            "   macro avg       0.71      0.70      0.69        48\n",
            "weighted avg       0.70      0.69      0.69        48\n",
            "\n"
          ]
        }
      ]
    },
    {
      "cell_type": "markdown",
      "source": [
        "### SVM - Tuned Model\n",
        "\n",
        "* Accuracy: 69%\n",
        "* Performance Summary:\n",
        "  * Improved accuracy over the basic SVM model.\n",
        "  * Balanced precision and recall across classes, with high recall for class 2.\n",
        "  * Moderate overall performance, though not as strong as the Decision Tree models."
      ],
      "metadata": {
        "id": "8lI282B434To"
      }
    },
    {
      "cell_type": "markdown",
      "source": [
        "## Evaluatiuon of the different models\n",
        "Having created the different algrorithms this is what we have established:\n",
        "\n",
        "* The best performing model is the basic Decision Tree, which achieved perfect scores. However, there are concerns about potential overfitting/underfitting.\n",
        "\n",
        "* The second-best option is the tuned Decision Tree model, which had an impressive 88% accuracy, providing a balance of high performance and better generalization.\n",
        "\n",
        "* Between the SVM tuned model and the k-NN model, the SVM tuned model performed slightly better in terms of accuracy and macro averages.\n",
        "\n",
        "Overall, the Decision Tree models, especially the tuned version, appear to be the most effective options, offering high accuracy while potentially avoiding the overfitting issues of the basic Decision Tree model."
      ],
      "metadata": {
        "id": "jUkP-lDzufu8"
      }
    },
    {
      "cell_type": "markdown",
      "source": [
        "# Further follow up of using another target variable\n",
        "\n",
        "### Used (Star category) as the new Target Variable"
      ],
      "metadata": {
        "id": "6dUs2Uwx48Iu"
      }
    },
    {
      "cell_type": "code",
      "source": [
        "X = df[['Temperature (K)', 'Luminosity (L/Lo)']]\n",
        "y = df['Star category']\n",
        "\n",
        "X_train, X_test, y_train, y_test = train_test_split(X, y, test_size=0.2, random_state=42)\n",
        "\n",
        "# Determine the optimal k\n",
        "accuracy_scores = []\n",
        "k_values = range(1, 21)\n",
        "\n",
        "for k in k_values:\n",
        "    knn = KNeighborsClassifier(n_neighbors=k)\n",
        "    knn.fit(X_train, y_train)\n",
        "    y_pred = knn.predict(X_test)\n",
        "    accuracy_scores.append(accuracy_score(y_test, y_pred))\n",
        "\n",
        "# Plotting accuracy vs. k values\n",
        "plt.plot(k_values, accuracy_scores, marker='o')\n",
        "plt.xlabel('Number of Neighbors (k)')\n",
        "plt.ylabel('Accuracy')\n",
        "plt.title('k-NN Accuracy for Different k Values')\n",
        "plt.show()\n",
        "\n",
        "# Optimal k based on highest accuracy\n",
        "optimal_k = k_values[accuracy_scores.index(max(accuracy_scores))]\n",
        "print(f'Optimal k: {optimal_k}')"
      ],
      "metadata": {
        "id": "difw4BEKvBLy",
        "colab": {
          "base_uri": "https://localhost:8080/",
          "height": 489
        },
        "outputId": "d960807b-44e2-4ccc-faa1-0f5b5cba1d11"
      },
      "execution_count": 4,
      "outputs": [
        {
          "output_type": "display_data",
          "data": {
            "text/plain": [
              "<Figure size 640x480 with 1 Axes>"
            ],
            "image/png": "[encoded data removed]"
          },
          "metadata": {}
        },
        {
          "output_type": "stream",
          "name": "stdout",
          "text": [
            "Optimal k: 2\n"
          ]
        }
      ]
    },
    {
      "cell_type": "code",
      "source": [
        "# Scale the data using MinMaxScaler\n",
        "scaler = MinMaxScaler()\n",
        "X_train_scaled = scaler.fit_transform(X_train)\n",
        "X_test_scaled = scaler.transform(X_test)\n",
        "\n",
        "# Train the final k-NN model using the optimal k\n",
        "knn_optimal = KNeighborsClassifier(n_neighbors=optimal_k)\n",
        "knn_optimal.fit(X_train_scaled, y_train)\n",
        "\n",
        "# Predict on the test set\n",
        "y_pred = knn_optimal.predict(X_test_scaled)\n",
        "\n",
        "# Confusion matrix\n",
        "conf_matrix = confusion_matrix(y_test, y_pred)\n",
        "print(\"KNN Confusion Matrix:\")\n",
        "print(conf_matrix)\n",
        "\n",
        "# Classification report\n",
        "print(\"\\nClassification Report:\")\n",
        "print(classification_report(y_test, y_pred))"
      ],
      "metadata": {
        "colab": {
          "base_uri": "https://localhost:8080/"
        },
        "id": "ciji6qwU5f5J",
        "outputId": "68f11c31-106a-4d4b-d189-ada7b0917d0a"
      },
      "execution_count": 5,
      "outputs": [
        {
          "output_type": "stream",
          "name": "stdout",
          "text": [
            "KNN Confusion Matrix:\n",
            "[[ 8  0  0  0  0  0]\n",
            " [ 0 10  0  0  1  0]\n",
            " [ 0  0  7  0  0  1]\n",
            " [ 5  0  0  2  0  0]\n",
            " [ 0  5  0  0  3  0]\n",
            " [ 0  0  4  0  0  2]]\n",
            "\n",
            "Classification Report:\n",
            "               precision    recall  f1-score   support\n",
            "\n",
            "  Brown Dwarf       0.62      1.00      0.76         8\n",
            "   Hypergiant       0.67      0.91      0.77        11\n",
            "Main Sequence       0.64      0.88      0.74         8\n",
            "    Red Dwarf       1.00      0.29      0.44         7\n",
            "   Supergiant       0.75      0.38      0.50         8\n",
            "  White Dwarf       0.67      0.33      0.44         6\n",
            "\n",
            "     accuracy                           0.67        48\n",
            "    macro avg       0.72      0.63      0.61        48\n",
            " weighted avg       0.72      0.67      0.63        48\n",
            "\n"
          ]
        }
      ]
    },
    {
      "cell_type": "markdown",
      "source": [
        "### k-NN Model Performance:\n",
        "\n",
        "* The k-NN model achieves a reasonable overall accuracy of 67%.\n",
        "* It shows strong classification capability for the Brown Dwarfs and Hypergiants classes.\n",
        "* However, the model struggles with classes like Red Dwarf and White Dwarf, where the recall is low.\n",
        "* This suggests the k-NN model sometimes fails to capture all instances of these classes, likely due to similarities with other classes."
      ],
      "metadata": {
        "id": "MxkXso_E7YBW"
      }
    },
    {
      "cell_type": "code",
      "source": [
        "# Train the basic Decision Tree model\n",
        "dt_clf = DecisionTreeClassifier(random_state=42)\n",
        "dt_clf.fit(X_train, y_train)\n",
        "\n",
        "# Predictions\n",
        "y_pred_dt = dt_clf.predict(X_test)\n",
        "\n",
        "print(\"Decision Tree - Basic Model\")\n",
        "print(\"Confusion Matrix:\\n\", confusion_matrix(y_test, y_pred_dt))\n",
        "print(\"\\nClassification Report:\\n\", classification_report(y_test, y_pred_dt))"
      ],
      "metadata": {
        "colab": {
          "base_uri": "https://localhost:8080/"
        },
        "id": "bog8BVvC5vzE",
        "outputId": "24927055-4cdc-4e9e-d9f4-ab7f151fad94"
      },
      "execution_count": 6,
      "outputs": [
        {
          "output_type": "stream",
          "name": "stdout",
          "text": [
            "Decision Tree - Basic Model\n",
            "Confusion Matrix:\n",
            " [[7 0 0 1 0 0]\n",
            " [0 8 0 0 3 0]\n",
            " [0 0 7 0 1 0]\n",
            " [0 0 0 7 0 0]\n",
            " [0 4 0 0 4 0]\n",
            " [0 0 0 0 0 6]]\n",
            "\n",
            "Classification Report:\n",
            "                precision    recall  f1-score   support\n",
            "\n",
            "  Brown Dwarf       1.00      0.88      0.93         8\n",
            "   Hypergiant       0.67      0.73      0.70        11\n",
            "Main Sequence       1.00      0.88      0.93         8\n",
            "    Red Dwarf       0.88      1.00      0.93         7\n",
            "   Supergiant       0.50      0.50      0.50         8\n",
            "  White Dwarf       1.00      1.00      1.00         6\n",
            "\n",
            "     accuracy                           0.81        48\n",
            "    macro avg       0.84      0.83      0.83        48\n",
            " weighted avg       0.82      0.81      0.81        48\n",
            "\n"
          ]
        }
      ]
    },
    {
      "cell_type": "markdown",
      "source": [
        "###  Decision Tree Model Performance:\n",
        "\n",
        "* The Decision Tree model achieves a good overall accuracy of 81%.\n",
        "* It performs very well in classifying certain star types, such as Brown Dwarfs, Main Sequence, Red Dwarfs, and White Dwarfs, with high precision and recall.\n",
        "* The model struggles a bit with the Hypergiant and Supergiant categories, with some misclassification"
      ],
      "metadata": {
        "id": "jOhioKpX77aa"
      }
    },
    {
      "cell_type": "code",
      "source": [
        "# Define the parameter grid\n",
        "param_grid = {\n",
        "    'max_depth': [3, 5, 10, None],\n",
        "    'min_samples_split': [2, 5, 10],\n",
        "    'min_samples_leaf': [1, 2, 4],\n",
        "    'criterion': ['gini', 'entropy']\n",
        "}\n",
        "\n",
        "# Initialize a basic Decision Tree model\n",
        "dt_clf = DecisionTreeClassifier(random_state=42)\n",
        "\n",
        "# Set up Grid Search with cross-validation\n",
        "grid_search = GridSearchCV(estimator=dt_clf, param_grid=param_grid, cv=5, scoring='accuracy', n_jobs=-1)\n",
        "grid_search.fit(X_train, y_train)\n",
        "\n",
        "# Best hyperparameters from Grid Search\n",
        "best_params = grid_search.best_params_\n",
        "print(\"Best hyperparameters:\", best_params)\n",
        "\n",
        "# Train the Decision Tree model with the best hyperparameters\n",
        "best_dt_clf = grid_search.best_estimator_\n",
        "best_dt_clf.fit(X_train, y_train)\n",
        "\n",
        "# Predictions\n",
        "y_pred_dt = best_dt_clf.predict(X_test)\n",
        "\n",
        "# Evaluation\n",
        "print(\"Decision Tree - Tuned Model\")\n",
        "print(\"Confusion Matrix:\\n\", confusion_matrix(y_test, y_pred_dt))\n",
        "print(\"\\nClassification Report:\\n\", classification_report(y_test, y_pred_dt))"
      ],
      "metadata": {
        "colab": {
          "base_uri": "https://localhost:8080/"
        },
        "id": "1ZFBQzs3515a",
        "outputId": "8f63b06f-fe07-431f-b765-5efdb8eaa554"
      },
      "execution_count": 7,
      "outputs": [
        {
          "output_type": "stream",
          "name": "stdout",
          "text": [
            "Best hyperparameters: {'criterion': 'entropy', 'max_depth': 10, 'min_samples_leaf': 1, 'min_samples_split': 2}\n",
            "Decision Tree - Tuned Model\n",
            "Confusion Matrix:\n",
            " [[8 0 0 0 0 0]\n",
            " [0 7 0 0 4 0]\n",
            " [0 1 7 0 0 0]\n",
            " [1 0 0 6 0 0]\n",
            " [0 4 0 0 4 0]\n",
            " [0 0 0 0 0 6]]\n",
            "\n",
            "Classification Report:\n",
            "                precision    recall  f1-score   support\n",
            "\n",
            "  Brown Dwarf       0.89      1.00      0.94         8\n",
            "   Hypergiant       0.58      0.64      0.61        11\n",
            "Main Sequence       1.00      0.88      0.93         8\n",
            "    Red Dwarf       1.00      0.86      0.92         7\n",
            "   Supergiant       0.50      0.50      0.50         8\n",
            "  White Dwarf       1.00      1.00      1.00         6\n",
            "\n",
            "     accuracy                           0.79        48\n",
            "    macro avg       0.83      0.81      0.82        48\n",
            " weighted avg       0.80      0.79      0.79        48\n",
            "\n"
          ]
        }
      ]
    },
    {
      "cell_type": "markdown",
      "source": [
        "### Tuned Decision Tree Model Performance:\n",
        "\n",
        "* The tuned Decision Tree model achieves an accuracy of 79%.\n",
        "* It performs well for classes like Brown Dwarf, Main Sequence, Red Dwarf, and White Dwarf, with high precision and recall.\n",
        "* The model shows moderate performance for the Hypergiant and Supergiant classes, indicating some remaining misclassifications even after tuning.\n",
        "* Overall, the tuned Decision Tree model demonstrates balanced performance, with improved handling of certain star classes compared to the base model."
      ],
      "metadata": {
        "id": "abIAxymc8SY_"
      }
    },
    {
      "cell_type": "code",
      "source": [
        "# Scale the data using MinMaxScaler\n",
        "scaler = MinMaxScaler()\n",
        "X_train_scaled = scaler.fit_transform(X_train)\n",
        "X_test_scaled = scaler.transform(X_test)\n",
        "\n",
        "# Train the SVM model on the scaled data\n",
        "svm_clf = SVC(random_state=42)\n",
        "svm_clf.fit(X_train_scaled, y_train)\n",
        "\n",
        "# Predictions on the test set\n",
        "y_pred_svm = svm_clf.predict(X_test_scaled)\n",
        "\n",
        "# Evaluate the model\n",
        "print(\"SVM - Basic Model\")\n",
        "print(\"Confusion Matrix:\\n\", confusion_matrix(y_test, y_pred_svm))\n",
        "print(\"\\nClassification Report:\\n\", classification_report(y_test, y_pred_svm))"
      ],
      "metadata": {
        "colab": {
          "base_uri": "https://localhost:8080/"
        },
        "id": "HKwNAdB16BQV",
        "outputId": "3fcd5bfe-b2f0-41c0-988a-8fd9fd30a2cf"
      },
      "execution_count": 8,
      "outputs": [
        {
          "output_type": "stream",
          "name": "stdout",
          "text": [
            "SVM - Basic Model\n",
            "Confusion Matrix:\n",
            " [[0 0 0 8 0 0]\n",
            " [0 8 0 0 3 0]\n",
            " [0 0 2 3 1 2]\n",
            " [0 0 0 7 0 0]\n",
            " [0 4 0 0 4 0]\n",
            " [0 0 0 0 0 6]]\n",
            "\n",
            "Classification Report:\n",
            "                precision    recall  f1-score   support\n",
            "\n",
            "  Brown Dwarf       0.00      0.00      0.00         8\n",
            "   Hypergiant       0.67      0.73      0.70        11\n",
            "Main Sequence       1.00      0.25      0.40         8\n",
            "    Red Dwarf       0.39      1.00      0.56         7\n",
            "   Supergiant       0.50      0.50      0.50         8\n",
            "  White Dwarf       0.75      1.00      0.86         6\n",
            "\n",
            "     accuracy                           0.56        48\n",
            "    macro avg       0.55      0.58      0.50        48\n",
            " weighted avg       0.55      0.56      0.50        48\n",
            "\n"
          ]
        },
        {
          "output_type": "stream",
          "name": "stderr",
          "text": [
            "/usr/local/lib/python3.10/dist-packages/sklearn/metrics/_classification.py:1531: UndefinedMetricWarning: Precision is ill-defined and being set to 0.0 in labels with no predicted samples. Use `zero_division` parameter to control this behavior.\n",
            "  _warn_prf(average, modifier, f\"{metric.capitalize()} is\", len(result))\n",
            "/usr/local/lib/python3.10/dist-packages/sklearn/metrics/_classification.py:1531: UndefinedMetricWarning: Precision is ill-defined and being set to 0.0 in labels with no predicted samples. Use `zero_division` parameter to control this behavior.\n",
            "  _warn_prf(average, modifier, f\"{metric.capitalize()} is\", len(result))\n",
            "/usr/local/lib/python3.10/dist-packages/sklearn/metrics/_classification.py:1531: UndefinedMetricWarning: Precision is ill-defined and being set to 0.0 in labels with no predicted samples. Use `zero_division` parameter to control this behavior.\n",
            "  _warn_prf(average, modifier, f\"{metric.capitalize()} is\", len(result))\n"
          ]
        }
      ]
    },
    {
      "cell_type": "markdown",
      "source": [
        "### SVM - Basic Model Performance:\n",
        "\n",
        "* The SVM - Basic Model achieved a relatively low overall accuracy of 56%.\n",
        "* The model struggles significantly with the Brown Dwarf and Main Sequence classes, with most instances misclassified into other categories.\n",
        "* The Red Dwarf and White Dwarf classes show good performance, achieving perfect recall."
      ],
      "metadata": {
        "id": "vjosuLos83V1"
      }
    },
    {
      "cell_type": "code",
      "source": [
        "# Scale the data using MinMaxScaler\n",
        "scaler = MinMaxScaler()\n",
        "X_train_scaled = scaler.fit_transform(X_train)\n",
        "X_test_scaled = scaler.transform(X_test)\n",
        "\n",
        "# Define the parameter grid for Grid Search\n",
        "param_grid = {\n",
        "    'C': [0.1, 1, 10, 100],          # Regularization parameter\n",
        "    'gamma': ['scale', 'auto', 0.01, 0.1, 1],  # Kernel coefficient\n",
        "    'kernel': ['linear', 'rbf', 'poly', 'sigmoid']  # Types of kernel\n",
        "}\n",
        "\n",
        "# Initialize an SVM model\n",
        "svm_clf = SVC(random_state=42)\n",
        "\n",
        "# Set up Grid Search with cross-validation\n",
        "grid_search = GridSearchCV(estimator=svm_clf, param_grid=param_grid, cv=5, scoring='accuracy', n_jobs=-1)\n",
        "grid_search.fit(X_train_scaled, y_train)\n",
        "\n",
        "# Best hyperparameters from Grid Search\n",
        "best_params = grid_search.best_params_\n",
        "print(\"Best hyperparameters:\", best_params)\n",
        "\n",
        "# Train the SVM model with the best hyperparameters\n",
        "best_svm_clf = grid_search.best_estimator_\n",
        "best_svm_clf.fit(X_train_scaled, y_train)\n",
        "\n",
        "# Predictions on the test set\n",
        "y_pred_svm = best_svm_clf.predict(X_test_scaled)\n",
        "\n",
        "# Evaluation\n",
        "print(\"SVM - Tuned Model\")\n",
        "print(\"Confusion Matrix:\\n\", confusion_matrix(y_test, y_pred_svm))\n",
        "print(\"\\nClassification Report:\\n\", classification_report(y_test, y_pred_svm))"
      ],
      "metadata": {
        "colab": {
          "base_uri": "https://localhost:8080/"
        },
        "id": "9CdRLG9I6HIc",
        "outputId": "bcdd21cc-ce5a-490c-dba9-2abc3cae076c"
      },
      "execution_count": 9,
      "outputs": [
        {
          "output_type": "stream",
          "name": "stdout",
          "text": [
            "Best hyperparameters: {'C': 100, 'gamma': 'scale', 'kernel': 'rbf'}\n",
            "SVM - Tuned Model\n",
            "Confusion Matrix:\n",
            " [[6 0 0 2 0 0]\n",
            " [0 8 0 0 3 0]\n",
            " [0 0 5 0 1 2]\n",
            " [3 0 0 4 0 0]\n",
            " [0 4 0 0 4 0]\n",
            " [0 0 0 0 0 6]]\n",
            "\n",
            "Classification Report:\n",
            "                precision    recall  f1-score   support\n",
            "\n",
            "  Brown Dwarf       0.67      0.75      0.71         8\n",
            "   Hypergiant       0.67      0.73      0.70        11\n",
            "Main Sequence       1.00      0.62      0.77         8\n",
            "    Red Dwarf       0.67      0.57      0.62         7\n",
            "   Supergiant       0.50      0.50      0.50         8\n",
            "  White Dwarf       0.75      1.00      0.86         6\n",
            "\n",
            "     accuracy                           0.69        48\n",
            "    macro avg       0.71      0.70      0.69        48\n",
            " weighted avg       0.70      0.69      0.69        48\n",
            "\n"
          ]
        }
      ]
    },
    {
      "cell_type": "markdown",
      "source": [
        "###  SVM - Tuned Model Performance:\n",
        "\n",
        "* The SVM - Tuned Model achieved an overall accuracy of 69%, an improvement over the SVM - Basic Model.\n",
        "* The tuning process helped increase the performance for challenging classes like Brown Dwarf and Main Sequence.\n",
        "* The White Dwarf class continues to have perfect recall.\n",
        "* While the Supergiant and Red Dwarf classes still show moderate performance, the tuned model provides a more balanced performance across all classes.\n",
        "* The SVM - Tuned Model is a stronger option compared to the untuned SVM model, thanks to the improvements made through the tuning process."
      ],
      "metadata": {
        "id": "-9HPDx0e9Wr3"
      }
    },
    {
      "cell_type": "markdown",
      "source": [
        "\n",
        "## Evaluation of the Different Models (Star category as the target variable)\n",
        "\n",
        "After evaluating the performance of the different models, we have established the following:\n",
        "\n",
        "* The best performing model is the basic Decision Tree, which achieved an impressive accuracy of 81%. It performed particularly well across most classes, but there are concerns about potential overfitting/underfitting.\n",
        "\n",
        "* The second-best option is the tuned Decision Tree model, with an accuracy of 79%. While slightly lower than the basic model, it offered improved performance in handling more classes, making it a more balanced and generalized choice.\n",
        "\n",
        "* Between the SVM - Tuned Model (69% accuracy) and the KNN - Tuned Model (67% accuracy), the SVM tuned model performed slightly better, showing better balance across various classes, particularly in the Main Sequence and White Dwarf categories.\n",
        "\n",
        "Overall, the Decision Tree models, especially the basic model, offer the highest accuracy and performance, but the tuned Decision Tree might be preferred due to its better generalization and slightly reduced risk of overfitting."
      ],
      "metadata": {
        "id": "AY2VbNFa98Cw"
      }
    },
    {
      "cell_type": "code",
      "source": [],
      "metadata": {
        "id": "9hAkb_Nh-iP0"
      },
      "execution_count": null,
      "outputs": []
    }
  ]
}